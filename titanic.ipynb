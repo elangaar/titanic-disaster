{
 "cells": [
  {
   "cell_type": "code",
   "execution_count": 1,
   "metadata": {},
   "outputs": [],
   "source": [
    "import os\n",
    "import copy\n",
    "import matplotlib.pyplot as plt\n",
    "import pandas as pd\n",
    "import numpy as np\n",
    "import seaborn as sns\n",
    "import numpy as np\n",
    "\n",
    "from IPython.display import display_html"
   ]
  },
  {
   "cell_type": "code",
   "execution_count": 2,
   "metadata": {},
   "outputs": [
    {
     "name": "stdout",
     "output_type": "stream",
     "text": [
      "/home/elangaar/kaggle_courses/06. Exercise_ Renaming and Combining.ipynb\n",
      "/home/elangaar/kaggle_courses/02. Indexing, Selecting & Assigning _ Kaggle.pdf\n",
      "/home/elangaar/kaggle_courses/05. Exercise_ Data Types and Missing Values.ipynb\n",
      "/home/elangaar/kaggle_courses/06. Renaming and Combining _ Kaggle.pdf\n",
      "/home/elangaar/kaggle_courses/training.ipynb\n",
      "/home/elangaar/kaggle_courses/04. Grouping and Sorting _ Kaggle.pdf\n",
      "/home/elangaar/kaggle_courses/03. Exercise_ Summary Functions and Maps.ipynb\n",
      "/home/elangaar/kaggle_courses/pandas_notes\n",
      "/home/elangaar/kaggle_courses/learn_random_forest.ipynb\n",
      "/home/elangaar/kaggle_courses/titanic.ipynb\n",
      "/home/elangaar/kaggle_courses/python_course.py\n",
      "/home/elangaar/kaggle_courses/cows_and_goats.csv\n",
      "/home/elangaar/kaggle_courses/01. Exercise_ Creating, Reading and Writing.ipynb\n",
      "/home/elangaar/kaggle_courses/getting-start-with-python.ipynb\n",
      "/home/elangaar/kaggle_courses/intro_to_machine_learning.ipynb\n",
      "/home/elangaar/kaggle_courses/02. Exercise_ Indexing, Selecting & Assigning.ipynb\n",
      "/home/elangaar/kaggle_courses/01. Creating, Reading and Writing _ Kaggle.pdf\n",
      "/home/elangaar/kaggle_courses/05. Data Types and Missing Values _ Kaggle.pdf\n",
      "/home/elangaar/kaggle_courses/tree.png\n",
      "/home/elangaar/kaggle_courses/03. Summary Functions and Maps _ Kaggle.pdf\n",
      "/home/elangaar/kaggle_courses/pandas_course.py\n",
      "/home/elangaar/kaggle_courses/04. Exercise_ Grouping and Sorting.ipynb\n",
      "/home/elangaar/kaggle_courses/data/Competitions places.ods\n",
      "/home/elangaar/kaggle_courses/data/gender_submission.csv\n",
      "/home/elangaar/kaggle_courses/data/melb_data.csv\n",
      "/home/elangaar/kaggle_courses/data/winemag-data-130k-v2.csv\n",
      "/home/elangaar/kaggle_courses/data/titanic_train.csv\n",
      "/home/elangaar/kaggle_courses/data/titanic_test.csv\n",
      "/home/elangaar/kaggle_courses/.ipynb_checkpoints/04. Exercise_ Grouping and Sorting-checkpoint.ipynb\n",
      "/home/elangaar/kaggle_courses/.ipynb_checkpoints/training-checkpoint.ipynb\n",
      "/home/elangaar/kaggle_courses/.ipynb_checkpoints/intro_to_machine_learning-checkpoint.ipynb\n",
      "/home/elangaar/kaggle_courses/.ipynb_checkpoints/Exercise_ Creating, Reading and Writing-checkpoint.ipynb\n",
      "/home/elangaar/kaggle_courses/.ipynb_checkpoints/learn_random_forest-checkpoint.ipynb\n",
      "/home/elangaar/kaggle_courses/.ipynb_checkpoints/getting-start-with-python-checkpoint.ipynb\n",
      "/home/elangaar/kaggle_courses/.ipynb_checkpoints/Exercise_ Indexing, Selecting & Assigning-checkpoint.ipynb\n",
      "/home/elangaar/kaggle_courses/.ipynb_checkpoints/03. Exercise_ Summary Functions and Maps-checkpoint.ipynb\n",
      "/home/elangaar/kaggle_courses/.ipynb_checkpoints/titanic-checkpoint.ipynb\n",
      "/home/elangaar/kaggle_courses/.spyproject/config/workspace.ini\n",
      "/home/elangaar/kaggle_courses/.spyproject/config/vcs.ini\n",
      "/home/elangaar/kaggle_courses/.spyproject/config/codestyle.ini\n",
      "/home/elangaar/kaggle_courses/.spyproject/config/encoding.ini\n",
      "/home/elangaar/kaggle_courses/.spyproject/config/defaults/defaults-codestyle-0.2.0.ini\n",
      "/home/elangaar/kaggle_courses/.spyproject/config/defaults/defaults-encoding-0.2.0.ini\n",
      "/home/elangaar/kaggle_courses/.spyproject/config/defaults/defaults-workspace-0.2.0.ini\n",
      "/home/elangaar/kaggle_courses/.spyproject/config/defaults/defaults-vcs-0.2.0.ini\n",
      "/home/elangaar/kaggle_courses/.spyproject/config/backups/encoding.ini.bak\n",
      "/home/elangaar/kaggle_courses/.spyproject/config/backups/codestyle.ini.bak\n",
      "/home/elangaar/kaggle_courses/.spyproject/config/backups/workspace.ini.bak\n",
      "/home/elangaar/kaggle_courses/.spyproject/config/backups/vcs.ini.bak\n"
     ]
    }
   ],
   "source": [
    "for dirpath, dirnames, filenames in os.walk('/home/elangaar/kaggle_courses'):\n",
    "    for filename in filenames:\n",
    "        print(os.path.join(dirpath, filename))"
   ]
  },
  {
   "cell_type": "code",
   "execution_count": 3,
   "metadata": {},
   "outputs": [],
   "source": [
    "train_data = pd.read_csv('data/titanic_train.csv')\n",
    "test_data = pd.read_csv('data/titanic_test.csv')"
   ]
  },
  {
   "cell_type": "code",
   "execution_count": 4,
   "metadata": {},
   "outputs": [
    {
     "data": {
      "text/plain": [
       "'/home/elangaar/kaggle_courses'"
      ]
     },
     "execution_count": 4,
     "metadata": {},
     "output_type": "execute_result"
    }
   ],
   "source": [
    "os.getcwd()"
   ]
  },
  {
   "cell_type": "code",
   "execution_count": 5,
   "metadata": {},
   "outputs": [
    {
     "name": "stdout",
     "output_type": "stream",
     "text": [
      "Train data shape: (891, 12)\n",
      "Test data shape: (418, 11)\n"
     ]
    }
   ],
   "source": [
    "print(f'Train data shape: {train_data.shape}')\n",
    "print(f'Test data shape: {test_data.shape}')"
   ]
  },
  {
   "cell_type": "code",
   "execution_count": 6,
   "metadata": {},
   "outputs": [
    {
     "data": {
      "text/plain": [
       "PassengerId      0\n",
       "Survived         0\n",
       "Pclass           0\n",
       "Name             0\n",
       "Sex              0\n",
       "Age            177\n",
       "SibSp            0\n",
       "Parch            0\n",
       "Ticket           0\n",
       "Fare             0\n",
       "Cabin          687\n",
       "Embarked         2\n",
       "dtype: int64"
      ]
     },
     "execution_count": 6,
     "metadata": {},
     "output_type": "execute_result"
    }
   ],
   "source": [
    "train_data.isna().sum()"
   ]
  },
  {
   "cell_type": "code",
   "execution_count": 7,
   "metadata": {},
   "outputs": [
    {
     "data": {
      "text/html": [
       "<div>\n",
       "<style scoped>\n",
       "    .dataframe tbody tr th:only-of-type {\n",
       "        vertical-align: middle;\n",
       "    }\n",
       "\n",
       "    .dataframe tbody tr th {\n",
       "        vertical-align: top;\n",
       "    }\n",
       "\n",
       "    .dataframe thead th {\n",
       "        text-align: right;\n",
       "    }\n",
       "</style>\n",
       "<table border=\"1\" class=\"dataframe\">\n",
       "  <thead>\n",
       "    <tr style=\"text-align: right;\">\n",
       "      <th></th>\n",
       "      <th>PassengerId</th>\n",
       "      <th>Survived</th>\n",
       "      <th>Pclass</th>\n",
       "      <th>Age</th>\n",
       "      <th>SibSp</th>\n",
       "      <th>Parch</th>\n",
       "      <th>Fare</th>\n",
       "    </tr>\n",
       "  </thead>\n",
       "  <tbody>\n",
       "    <tr>\n",
       "      <th>count</th>\n",
       "      <td>891.000000</td>\n",
       "      <td>891.000000</td>\n",
       "      <td>891.000000</td>\n",
       "      <td>714.000000</td>\n",
       "      <td>891.000000</td>\n",
       "      <td>891.000000</td>\n",
       "      <td>891.000000</td>\n",
       "    </tr>\n",
       "    <tr>\n",
       "      <th>mean</th>\n",
       "      <td>446.000000</td>\n",
       "      <td>0.383838</td>\n",
       "      <td>2.308642</td>\n",
       "      <td>29.699118</td>\n",
       "      <td>0.523008</td>\n",
       "      <td>0.381594</td>\n",
       "      <td>32.204208</td>\n",
       "    </tr>\n",
       "    <tr>\n",
       "      <th>std</th>\n",
       "      <td>257.353842</td>\n",
       "      <td>0.486592</td>\n",
       "      <td>0.836071</td>\n",
       "      <td>14.526497</td>\n",
       "      <td>1.102743</td>\n",
       "      <td>0.806057</td>\n",
       "      <td>49.693429</td>\n",
       "    </tr>\n",
       "    <tr>\n",
       "      <th>min</th>\n",
       "      <td>1.000000</td>\n",
       "      <td>0.000000</td>\n",
       "      <td>1.000000</td>\n",
       "      <td>0.420000</td>\n",
       "      <td>0.000000</td>\n",
       "      <td>0.000000</td>\n",
       "      <td>0.000000</td>\n",
       "    </tr>\n",
       "    <tr>\n",
       "      <th>25%</th>\n",
       "      <td>223.500000</td>\n",
       "      <td>0.000000</td>\n",
       "      <td>2.000000</td>\n",
       "      <td>20.125000</td>\n",
       "      <td>0.000000</td>\n",
       "      <td>0.000000</td>\n",
       "      <td>7.910400</td>\n",
       "    </tr>\n",
       "    <tr>\n",
       "      <th>50%</th>\n",
       "      <td>446.000000</td>\n",
       "      <td>0.000000</td>\n",
       "      <td>3.000000</td>\n",
       "      <td>28.000000</td>\n",
       "      <td>0.000000</td>\n",
       "      <td>0.000000</td>\n",
       "      <td>14.454200</td>\n",
       "    </tr>\n",
       "    <tr>\n",
       "      <th>75%</th>\n",
       "      <td>668.500000</td>\n",
       "      <td>1.000000</td>\n",
       "      <td>3.000000</td>\n",
       "      <td>38.000000</td>\n",
       "      <td>1.000000</td>\n",
       "      <td>0.000000</td>\n",
       "      <td>31.000000</td>\n",
       "    </tr>\n",
       "    <tr>\n",
       "      <th>max</th>\n",
       "      <td>891.000000</td>\n",
       "      <td>1.000000</td>\n",
       "      <td>3.000000</td>\n",
       "      <td>80.000000</td>\n",
       "      <td>8.000000</td>\n",
       "      <td>6.000000</td>\n",
       "      <td>512.329200</td>\n",
       "    </tr>\n",
       "  </tbody>\n",
       "</table>\n",
       "</div>"
      ],
      "text/plain": [
       "       PassengerId    Survived      Pclass         Age       SibSp  \\\n",
       "count   891.000000  891.000000  891.000000  714.000000  891.000000   \n",
       "mean    446.000000    0.383838    2.308642   29.699118    0.523008   \n",
       "std     257.353842    0.486592    0.836071   14.526497    1.102743   \n",
       "min       1.000000    0.000000    1.000000    0.420000    0.000000   \n",
       "25%     223.500000    0.000000    2.000000   20.125000    0.000000   \n",
       "50%     446.000000    0.000000    3.000000   28.000000    0.000000   \n",
       "75%     668.500000    1.000000    3.000000   38.000000    1.000000   \n",
       "max     891.000000    1.000000    3.000000   80.000000    8.000000   \n",
       "\n",
       "            Parch        Fare  \n",
       "count  891.000000  891.000000  \n",
       "mean     0.381594   32.204208  \n",
       "std      0.806057   49.693429  \n",
       "min      0.000000    0.000000  \n",
       "25%      0.000000    7.910400  \n",
       "50%      0.000000   14.454200  \n",
       "75%      0.000000   31.000000  \n",
       "max      6.000000  512.329200  "
      ]
     },
     "execution_count": 7,
     "metadata": {},
     "output_type": "execute_result"
    }
   ],
   "source": [
    "train_data.describe()"
   ]
  },
  {
   "cell_type": "code",
   "execution_count": 8,
   "metadata": {
    "scrolled": true
   },
   "outputs": [
    {
     "data": {
      "text/html": [
       "<div>\n",
       "<style scoped>\n",
       "    .dataframe tbody tr th:only-of-type {\n",
       "        vertical-align: middle;\n",
       "    }\n",
       "\n",
       "    .dataframe tbody tr th {\n",
       "        vertical-align: top;\n",
       "    }\n",
       "\n",
       "    .dataframe thead th {\n",
       "        text-align: right;\n",
       "    }\n",
       "</style>\n",
       "<table border=\"1\" class=\"dataframe\">\n",
       "  <thead>\n",
       "    <tr style=\"text-align: right;\">\n",
       "      <th></th>\n",
       "      <th>PassengerId</th>\n",
       "      <th>Survived</th>\n",
       "      <th>Pclass</th>\n",
       "      <th>Name</th>\n",
       "      <th>Sex</th>\n",
       "      <th>Age</th>\n",
       "      <th>SibSp</th>\n",
       "      <th>Parch</th>\n",
       "      <th>Ticket</th>\n",
       "      <th>Fare</th>\n",
       "      <th>Cabin</th>\n",
       "      <th>Embarked</th>\n",
       "    </tr>\n",
       "  </thead>\n",
       "  <tbody>\n",
       "    <tr>\n",
       "      <th>0</th>\n",
       "      <td>1</td>\n",
       "      <td>0</td>\n",
       "      <td>3</td>\n",
       "      <td>Braund, Mr. Owen Harris</td>\n",
       "      <td>male</td>\n",
       "      <td>22.0</td>\n",
       "      <td>1</td>\n",
       "      <td>0</td>\n",
       "      <td>A/5 21171</td>\n",
       "      <td>7.2500</td>\n",
       "      <td>NaN</td>\n",
       "      <td>S</td>\n",
       "    </tr>\n",
       "    <tr>\n",
       "      <th>1</th>\n",
       "      <td>2</td>\n",
       "      <td>1</td>\n",
       "      <td>1</td>\n",
       "      <td>Cumings, Mrs. John Bradley (Florence Briggs Th...</td>\n",
       "      <td>female</td>\n",
       "      <td>38.0</td>\n",
       "      <td>1</td>\n",
       "      <td>0</td>\n",
       "      <td>PC 17599</td>\n",
       "      <td>71.2833</td>\n",
       "      <td>C85</td>\n",
       "      <td>C</td>\n",
       "    </tr>\n",
       "    <tr>\n",
       "      <th>2</th>\n",
       "      <td>3</td>\n",
       "      <td>1</td>\n",
       "      <td>3</td>\n",
       "      <td>Heikkinen, Miss. Laina</td>\n",
       "      <td>female</td>\n",
       "      <td>26.0</td>\n",
       "      <td>0</td>\n",
       "      <td>0</td>\n",
       "      <td>STON/O2. 3101282</td>\n",
       "      <td>7.9250</td>\n",
       "      <td>NaN</td>\n",
       "      <td>S</td>\n",
       "    </tr>\n",
       "    <tr>\n",
       "      <th>3</th>\n",
       "      <td>4</td>\n",
       "      <td>1</td>\n",
       "      <td>1</td>\n",
       "      <td>Futrelle, Mrs. Jacques Heath (Lily May Peel)</td>\n",
       "      <td>female</td>\n",
       "      <td>35.0</td>\n",
       "      <td>1</td>\n",
       "      <td>0</td>\n",
       "      <td>113803</td>\n",
       "      <td>53.1000</td>\n",
       "      <td>C123</td>\n",
       "      <td>S</td>\n",
       "    </tr>\n",
       "    <tr>\n",
       "      <th>4</th>\n",
       "      <td>5</td>\n",
       "      <td>0</td>\n",
       "      <td>3</td>\n",
       "      <td>Allen, Mr. William Henry</td>\n",
       "      <td>male</td>\n",
       "      <td>35.0</td>\n",
       "      <td>0</td>\n",
       "      <td>0</td>\n",
       "      <td>373450</td>\n",
       "      <td>8.0500</td>\n",
       "      <td>NaN</td>\n",
       "      <td>S</td>\n",
       "    </tr>\n",
       "  </tbody>\n",
       "</table>\n",
       "</div>"
      ],
      "text/plain": [
       "   PassengerId  Survived  Pclass  \\\n",
       "0            1         0       3   \n",
       "1            2         1       1   \n",
       "2            3         1       3   \n",
       "3            4         1       1   \n",
       "4            5         0       3   \n",
       "\n",
       "                                                Name     Sex   Age  SibSp  \\\n",
       "0                            Braund, Mr. Owen Harris    male  22.0      1   \n",
       "1  Cumings, Mrs. John Bradley (Florence Briggs Th...  female  38.0      1   \n",
       "2                             Heikkinen, Miss. Laina  female  26.0      0   \n",
       "3       Futrelle, Mrs. Jacques Heath (Lily May Peel)  female  35.0      1   \n",
       "4                           Allen, Mr. William Henry    male  35.0      0   \n",
       "\n",
       "   Parch            Ticket     Fare Cabin Embarked  \n",
       "0      0         A/5 21171   7.2500   NaN        S  \n",
       "1      0          PC 17599  71.2833   C85        C  \n",
       "2      0  STON/O2. 3101282   7.9250   NaN        S  \n",
       "3      0            113803  53.1000  C123        S  \n",
       "4      0            373450   8.0500   NaN        S  "
      ]
     },
     "execution_count": 8,
     "metadata": {},
     "output_type": "execute_result"
    }
   ],
   "source": [
    "train_data.head()"
   ]
  },
  {
   "cell_type": "code",
   "execution_count": 9,
   "metadata": {},
   "outputs": [
    {
     "data": {
      "text/plain": [
       "PassengerId    15\n",
       "dtype: int64"
      ]
     },
     "execution_count": 9,
     "metadata": {},
     "output_type": "execute_result"
    }
   ],
   "source": [
    "train_data.loc[train_data.Fare == 0, ['PassengerId']].count()"
   ]
  },
  {
   "cell_type": "code",
   "execution_count": 10,
   "metadata": {},
   "outputs": [
    {
     "data": {
      "text/plain": [
       "PassengerId    177\n",
       "Survived       177\n",
       "Pclass         177\n",
       "Name           177\n",
       "Sex            177\n",
       "Age              0\n",
       "SibSp          177\n",
       "Parch          177\n",
       "Ticket         177\n",
       "Fare           177\n",
       "Cabin           19\n",
       "Embarked       177\n",
       "dtype: int64"
      ]
     },
     "execution_count": 10,
     "metadata": {},
     "output_type": "execute_result"
    }
   ],
   "source": [
    "train_data.loc[train_data.Age.isna()].count()"
   ]
  },
  {
   "cell_type": "code",
   "execution_count": 11,
   "metadata": {},
   "outputs": [
    {
     "data": {
      "text/plain": [
       "array([0, 1])"
      ]
     },
     "execution_count": 11,
     "metadata": {},
     "output_type": "execute_result"
    }
   ],
   "source": [
    "train_data.Survived.unique()"
   ]
  },
  {
   "cell_type": "code",
   "execution_count": 12,
   "metadata": {},
   "outputs": [
    {
     "data": {
      "text/plain": [
       "PassengerId    18\n",
       "dtype: int64"
      ]
     },
     "execution_count": 12,
     "metadata": {},
     "output_type": "execute_result"
    }
   ],
   "source": [
    "train_data.loc[train_data.SibSp == 4, ['PassengerId']].count()"
   ]
  },
  {
   "cell_type": "code",
   "execution_count": 13,
   "metadata": {},
   "outputs": [
    {
     "data": {
      "image/png": "[encoded data removed]",
      "text/plain": [
       "<Figure size 864x792 with 9 Axes>"
      ]
     },
     "metadata": {
      "needs_background": "light"
     },
     "output_type": "display_data"
    }
   ],
   "source": [
    "fig = plt.figure(figsize=(12, 11))\n",
    "fig.suptitle(\"0 - No, 1 - Yes\", fontsize=25, y=1.05)\n",
    "plt.subplot2grid((3, 3), (0, 0))\n",
    "sns.boxplot(x='Survived', y='Age', data=train_data, orient='v')\n",
    "plt.title('Age')\n",
    "plt.subplot2grid((3, 3), (0, 1))\n",
    "sns.boxplot(x='Survived', y='Fare', data=train_data, orient='v')\n",
    "plt.title('Fare')\n",
    "plt.subplot2grid((3, 3), (0, 2))\n",
    "sns.countplot(x='Sex', hue='Survived', data=train_data)\n",
    "plt.subplot2grid((3, 3), (1, 0))\n",
    "sns.countplot(x='Survived', data=train_data)\n",
    "plt.title('Survived')\n",
    "plt.subplot2grid((3, 3), (1, 1))\n",
    "sns.countplot(x='Pclass', data=train_data)\n",
    "plt.title('Pclass')\n",
    "plt.subplot2grid((3, 3), (1, 2))\n",
    "sns.countplot(x='Embarked', data=train_data)\n",
    "plt.title('Embarked')\n",
    "plt.subplot2grid((3, 3), (2, 0))\n",
    "sns.countplot(x='Pclass', hue='Survived', data=train_data)\n",
    "plt.title('Pclass by Survived/Died')\n",
    "plt.subplot2grid((3, 3), (2, 1))\n",
    "sns.countplot(x='SibSp', hue='Survived', data=train_data)\n",
    "plt.title('SibSP by Survived/Died')\n",
    "plt.subplot2grid((3, 3), (2, 2))\n",
    "sns.countplot(x='Parch', hue='Survived', data=train_data)\n",
    "plt.title('Parch by Survived/Died')\n",
    "\n",
    "plt.tight_layout()"
   ]
  },
  {
   "cell_type": "markdown",
   "metadata": {},
   "source": [
    "### Pre-processing data"
   ]
  },
  {
   "cell_type": "code",
   "execution_count": 14,
   "metadata": {},
   "outputs": [],
   "source": [
    "survived_train = train_data.Survived\n",
    "data = train_data.drop('Survived', axis=1).append(test_data, sort=False)"
   ]
  },
  {
   "cell_type": "code",
   "execution_count": 15,
   "metadata": {},
   "outputs": [],
   "source": [
    "data.Cabin = data.Cabin.str[0]"
   ]
  },
  {
   "cell_type": "code",
   "execution_count": 16,
   "metadata": {},
   "outputs": [],
   "source": [
    "data.Cabin = data.Cabin.fillna('noCabin')"
   ]
  },
  {
   "cell_type": "markdown",
   "metadata": {},
   "source": [
    "###### Check how many Age values are estimated"
   ]
  },
  {
   "cell_type": "code",
   "execution_count": 17,
   "metadata": {},
   "outputs": [
    {
     "data": {
      "text/plain": [
       "308"
      ]
     },
     "execution_count": 17,
     "metadata": {},
     "output_type": "execute_result"
    }
   ],
   "source": [
    "(data.Age % 1 != 0).sum()"
   ]
  },
  {
   "cell_type": "code",
   "execution_count": 18,
   "metadata": {},
   "outputs": [],
   "source": [
    "data.Sex = data.Sex.replace('female', 0)\n",
    "data.Sex = data.Sex.replace('male', 1)\n",
    "data.Sex= data.Sex.astype(int)"
   ]
  },
  {
   "cell_type": "code",
   "execution_count": 19,
   "metadata": {},
   "outputs": [],
   "source": [
    "data['FamilySize'] = data.SibSp + data.Parch + 1"
   ]
  },
  {
   "cell_type": "code",
   "execution_count": 20,
   "metadata": {},
   "outputs": [],
   "source": [
    "data['IsSolo'] = 0\n",
    "data.loc[data.FamilySize == 1, 'IsSolo'] = 1\n",
    "data['SmallGroup'] = 0\n",
    "data.loc[data.FamilySize.isin([2, 3, 4]), 'SmallGroup'] = 1"
   ]
  },
  {
   "cell_type": "code",
   "execution_count": 21,
   "metadata": {},
   "outputs": [
    {
     "data": {
      "text/html": [
       "<div>\n",
       "<style scoped>\n",
       "    .dataframe tbody tr th:only-of-type {\n",
       "        vertical-align: middle;\n",
       "    }\n",
       "\n",
       "    .dataframe tbody tr th {\n",
       "        vertical-align: top;\n",
       "    }\n",
       "\n",
       "    .dataframe thead th {\n",
       "        text-align: right;\n",
       "    }\n",
       "</style>\n",
       "<table border=\"1\" class=\"dataframe\">\n",
       "  <thead>\n",
       "    <tr style=\"text-align: right;\">\n",
       "      <th></th>\n",
       "      <th>PassengerId</th>\n",
       "      <th>Pclass</th>\n",
       "      <th>Name</th>\n",
       "      <th>Sex</th>\n",
       "      <th>Age</th>\n",
       "      <th>SibSp</th>\n",
       "      <th>Parch</th>\n",
       "      <th>Ticket</th>\n",
       "      <th>Fare</th>\n",
       "      <th>Cabin</th>\n",
       "      <th>Embarked</th>\n",
       "      <th>FamilySize</th>\n",
       "      <th>IsSolo</th>\n",
       "      <th>SmallGroup</th>\n",
       "    </tr>\n",
       "  </thead>\n",
       "  <tbody>\n",
       "    <tr>\n",
       "      <th>0</th>\n",
       "      <td>1</td>\n",
       "      <td>3</td>\n",
       "      <td>Braund, Mr. Owen Harris</td>\n",
       "      <td>1</td>\n",
       "      <td>22.0</td>\n",
       "      <td>1</td>\n",
       "      <td>0</td>\n",
       "      <td>A/5 21171</td>\n",
       "      <td>7.2500</td>\n",
       "      <td>noCabin</td>\n",
       "      <td>S</td>\n",
       "      <td>2</td>\n",
       "      <td>0</td>\n",
       "      <td>1</td>\n",
       "    </tr>\n",
       "    <tr>\n",
       "      <th>1</th>\n",
       "      <td>2</td>\n",
       "      <td>1</td>\n",
       "      <td>Cumings, Mrs. John Bradley (Florence Briggs Th...</td>\n",
       "      <td>0</td>\n",
       "      <td>38.0</td>\n",
       "      <td>1</td>\n",
       "      <td>0</td>\n",
       "      <td>PC 17599</td>\n",
       "      <td>71.2833</td>\n",
       "      <td>C</td>\n",
       "      <td>C</td>\n",
       "      <td>2</td>\n",
       "      <td>0</td>\n",
       "      <td>1</td>\n",
       "    </tr>\n",
       "    <tr>\n",
       "      <th>2</th>\n",
       "      <td>3</td>\n",
       "      <td>3</td>\n",
       "      <td>Heikkinen, Miss. Laina</td>\n",
       "      <td>0</td>\n",
       "      <td>26.0</td>\n",
       "      <td>0</td>\n",
       "      <td>0</td>\n",
       "      <td>STON/O2. 3101282</td>\n",
       "      <td>7.9250</td>\n",
       "      <td>noCabin</td>\n",
       "      <td>S</td>\n",
       "      <td>1</td>\n",
       "      <td>1</td>\n",
       "      <td>0</td>\n",
       "    </tr>\n",
       "    <tr>\n",
       "      <th>3</th>\n",
       "      <td>4</td>\n",
       "      <td>1</td>\n",
       "      <td>Futrelle, Mrs. Jacques Heath (Lily May Peel)</td>\n",
       "      <td>0</td>\n",
       "      <td>35.0</td>\n",
       "      <td>1</td>\n",
       "      <td>0</td>\n",
       "      <td>113803</td>\n",
       "      <td>53.1000</td>\n",
       "      <td>C</td>\n",
       "      <td>S</td>\n",
       "      <td>2</td>\n",
       "      <td>0</td>\n",
       "      <td>1</td>\n",
       "    </tr>\n",
       "    <tr>\n",
       "      <th>4</th>\n",
       "      <td>5</td>\n",
       "      <td>3</td>\n",
       "      <td>Allen, Mr. William Henry</td>\n",
       "      <td>1</td>\n",
       "      <td>35.0</td>\n",
       "      <td>0</td>\n",
       "      <td>0</td>\n",
       "      <td>373450</td>\n",
       "      <td>8.0500</td>\n",
       "      <td>noCabin</td>\n",
       "      <td>S</td>\n",
       "      <td>1</td>\n",
       "      <td>1</td>\n",
       "      <td>0</td>\n",
       "    </tr>\n",
       "  </tbody>\n",
       "</table>\n",
       "</div>"
      ],
      "text/plain": [
       "   PassengerId  Pclass                                               Name  \\\n",
       "0            1       3                            Braund, Mr. Owen Harris   \n",
       "1            2       1  Cumings, Mrs. John Bradley (Florence Briggs Th...   \n",
       "2            3       3                             Heikkinen, Miss. Laina   \n",
       "3            4       1       Futrelle, Mrs. Jacques Heath (Lily May Peel)   \n",
       "4            5       3                           Allen, Mr. William Henry   \n",
       "\n",
       "   Sex   Age  SibSp  Parch            Ticket     Fare    Cabin Embarked  \\\n",
       "0    1  22.0      1      0         A/5 21171   7.2500  noCabin        S   \n",
       "1    0  38.0      1      0          PC 17599  71.2833        C        C   \n",
       "2    0  26.0      0      0  STON/O2. 3101282   7.9250  noCabin        S   \n",
       "3    0  35.0      1      0            113803  53.1000        C        S   \n",
       "4    1  35.0      0      0            373450   8.0500  noCabin        S   \n",
       "\n",
       "   FamilySize  IsSolo  SmallGroup  \n",
       "0           2       0           1  \n",
       "1           2       0           1  \n",
       "2           1       1           0  \n",
       "3           2       0           1  \n",
       "4           1       1           0  "
      ]
     },
     "execution_count": 21,
     "metadata": {},
     "output_type": "execute_result"
    }
   ],
   "source": [
    "data.head()"
   ]
  },
  {
   "cell_type": "code",
   "execution_count": 22,
   "metadata": {},
   "outputs": [
    {
     "data": {
      "text/plain": [
       "<matplotlib.axes._subplots.AxesSubplot at 0x7fdd1843bf90>"
      ]
     },
     "execution_count": 22,
     "metadata": {},
     "output_type": "execute_result"
    },
    {
     "data": {
      "image/png": "[encoded data removed]",
      "text/plain": [
       "<Figure size 432x288 with 1 Axes>"
      ]
     },
     "metadata": {
      "needs_background": "light"
     },
     "output_type": "display_data"
    }
   ],
   "source": [
    "sns.countplot(data['FamilySize'])"
   ]
  },
  {
   "cell_type": "code",
   "execution_count": 23,
   "metadata": {},
   "outputs": [
    {
     "data": {
      "text/plain": [
       "PassengerId      0\n",
       "Pclass           0\n",
       "Name             0\n",
       "Sex              0\n",
       "Age            263\n",
       "SibSp            0\n",
       "Parch            0\n",
       "Ticket           0\n",
       "Fare             1\n",
       "Cabin            0\n",
       "Embarked         2\n",
       "FamilySize       0\n",
       "IsSolo           0\n",
       "SmallGroup       0\n",
       "dtype: int64"
      ]
     },
     "execution_count": 23,
     "metadata": {},
     "output_type": "execute_result"
    }
   ],
   "source": [
    "data.isna().sum()"
   ]
  },
  {
   "cell_type": "code",
   "execution_count": 24,
   "metadata": {},
   "outputs": [],
   "source": [
    "data['Title'] = data['Name'].str.replace('(.*, )|(\\. .*)', '')"
   ]
  },
  {
   "cell_type": "code",
   "execution_count": 25,
   "metadata": {},
   "outputs": [],
   "source": [
    "data.Title = data.Title.replace(['Mme', 'Ms', 'Lady', 'Mlle', 'the Countess', 'Dona'], 'lady')"
   ]
  },
  {
   "cell_type": "code",
   "execution_count": 26,
   "metadata": {},
   "outputs": [],
   "source": [
    "data.Title = data.Title.replace(['Don', 'Major', 'Sir', 'Col', 'Capt', 'Jonkheer'], 'other')"
   ]
  },
  {
   "cell_type": "code",
   "execution_count": 27,
   "metadata": {},
   "outputs": [
    {
     "data": {
      "text/plain": [
       "<matplotlib.axes._subplots.AxesSubplot at 0x7fdd17d9b3d0>"
      ]
     },
     "execution_count": 27,
     "metadata": {},
     "output_type": "execute_result"
    },
    {
     "data": {
      "image/png": "[encoded data removed]",
      "text/plain": [
       "<Figure size 1080x360 with 1 Axes>"
      ]
     },
     "metadata": {
      "needs_background": "light"
     },
     "output_type": "display_data"
    }
   ],
   "source": [
    "plt.figure(figsize=(15, 5))\n",
    "plt.subplot2grid((1, 3), (0, 0))\n",
    "sns.boxplot(x='Title', y='Age', data=data)"
   ]
  },
  {
   "cell_type": "code",
   "execution_count": 28,
   "metadata": {},
   "outputs": [
    {
     "data": {
      "text/html": [
       "<div>\n",
       "<style scoped>\n",
       "    .dataframe tbody tr th:only-of-type {\n",
       "        vertical-align: middle;\n",
       "    }\n",
       "\n",
       "    .dataframe tbody tr th {\n",
       "        vertical-align: top;\n",
       "    }\n",
       "\n",
       "    .dataframe thead th {\n",
       "        text-align: right;\n",
       "    }\n",
       "</style>\n",
       "<table border=\"1\" class=\"dataframe\">\n",
       "  <thead>\n",
       "    <tr style=\"text-align: right;\">\n",
       "      <th></th>\n",
       "      <th>PassengerId</th>\n",
       "      <th>Pclass</th>\n",
       "      <th>Name</th>\n",
       "      <th>Sex</th>\n",
       "      <th>Age</th>\n",
       "      <th>SibSp</th>\n",
       "      <th>Parch</th>\n",
       "      <th>Ticket</th>\n",
       "      <th>Fare</th>\n",
       "      <th>Cabin</th>\n",
       "      <th>Embarked</th>\n",
       "      <th>FamilySize</th>\n",
       "      <th>IsSolo</th>\n",
       "      <th>SmallGroup</th>\n",
       "      <th>Title</th>\n",
       "    </tr>\n",
       "  </thead>\n",
       "  <tbody>\n",
       "    <tr>\n",
       "      <th>0</th>\n",
       "      <td>1</td>\n",
       "      <td>3</td>\n",
       "      <td>Braund, Mr. Owen Harris</td>\n",
       "      <td>1</td>\n",
       "      <td>22.0</td>\n",
       "      <td>1</td>\n",
       "      <td>0</td>\n",
       "      <td>A/5 21171</td>\n",
       "      <td>7.2500</td>\n",
       "      <td>noCabin</td>\n",
       "      <td>S</td>\n",
       "      <td>2</td>\n",
       "      <td>0</td>\n",
       "      <td>1</td>\n",
       "      <td>Mr</td>\n",
       "    </tr>\n",
       "    <tr>\n",
       "      <th>1</th>\n",
       "      <td>2</td>\n",
       "      <td>1</td>\n",
       "      <td>Cumings, Mrs. John Bradley (Florence Briggs Th...</td>\n",
       "      <td>0</td>\n",
       "      <td>38.0</td>\n",
       "      <td>1</td>\n",
       "      <td>0</td>\n",
       "      <td>PC 17599</td>\n",
       "      <td>71.2833</td>\n",
       "      <td>C</td>\n",
       "      <td>C</td>\n",
       "      <td>2</td>\n",
       "      <td>0</td>\n",
       "      <td>1</td>\n",
       "      <td>Mrs</td>\n",
       "    </tr>\n",
       "    <tr>\n",
       "      <th>2</th>\n",
       "      <td>3</td>\n",
       "      <td>3</td>\n",
       "      <td>Heikkinen, Miss. Laina</td>\n",
       "      <td>0</td>\n",
       "      <td>26.0</td>\n",
       "      <td>0</td>\n",
       "      <td>0</td>\n",
       "      <td>STON/O2. 3101282</td>\n",
       "      <td>7.9250</td>\n",
       "      <td>noCabin</td>\n",
       "      <td>S</td>\n",
       "      <td>1</td>\n",
       "      <td>1</td>\n",
       "      <td>0</td>\n",
       "      <td>Miss</td>\n",
       "    </tr>\n",
       "    <tr>\n",
       "      <th>3</th>\n",
       "      <td>4</td>\n",
       "      <td>1</td>\n",
       "      <td>Futrelle, Mrs. Jacques Heath (Lily May Peel)</td>\n",
       "      <td>0</td>\n",
       "      <td>35.0</td>\n",
       "      <td>1</td>\n",
       "      <td>0</td>\n",
       "      <td>113803</td>\n",
       "      <td>53.1000</td>\n",
       "      <td>C</td>\n",
       "      <td>S</td>\n",
       "      <td>2</td>\n",
       "      <td>0</td>\n",
       "      <td>1</td>\n",
       "      <td>Mrs</td>\n",
       "    </tr>\n",
       "    <tr>\n",
       "      <th>4</th>\n",
       "      <td>5</td>\n",
       "      <td>3</td>\n",
       "      <td>Allen, Mr. William Henry</td>\n",
       "      <td>1</td>\n",
       "      <td>35.0</td>\n",
       "      <td>0</td>\n",
       "      <td>0</td>\n",
       "      <td>373450</td>\n",
       "      <td>8.0500</td>\n",
       "      <td>noCabin</td>\n",
       "      <td>S</td>\n",
       "      <td>1</td>\n",
       "      <td>1</td>\n",
       "      <td>0</td>\n",
       "      <td>Mr</td>\n",
       "    </tr>\n",
       "  </tbody>\n",
       "</table>\n",
       "</div>"
      ],
      "text/plain": [
       "   PassengerId  Pclass                                               Name  \\\n",
       "0            1       3                            Braund, Mr. Owen Harris   \n",
       "1            2       1  Cumings, Mrs. John Bradley (Florence Briggs Th...   \n",
       "2            3       3                             Heikkinen, Miss. Laina   \n",
       "3            4       1       Futrelle, Mrs. Jacques Heath (Lily May Peel)   \n",
       "4            5       3                           Allen, Mr. William Henry   \n",
       "\n",
       "   Sex   Age  SibSp  Parch            Ticket     Fare    Cabin Embarked  \\\n",
       "0    1  22.0      1      0         A/5 21171   7.2500  noCabin        S   \n",
       "1    0  38.0      1      0          PC 17599  71.2833        C        C   \n",
       "2    0  26.0      0      0  STON/O2. 3101282   7.9250  noCabin        S   \n",
       "3    0  35.0      1      0            113803  53.1000        C        S   \n",
       "4    1  35.0      0      0            373450   8.0500  noCabin        S   \n",
       "\n",
       "   FamilySize  IsSolo  SmallGroup Title  \n",
       "0           2       0           1    Mr  \n",
       "1           2       0           1   Mrs  \n",
       "2           1       1           0  Miss  \n",
       "3           2       0           1   Mrs  \n",
       "4           1       1           0    Mr  "
      ]
     },
     "execution_count": 28,
     "metadata": {},
     "output_type": "execute_result"
    }
   ],
   "source": [
    "data.head()"
   ]
  },
  {
   "cell_type": "code",
   "execution_count": 29,
   "metadata": {},
   "outputs": [
    {
     "name": "stdout",
     "output_type": "stream",
     "text": [
      "<class 'pandas.core.frame.DataFrame'>\n",
      "Int64Index: 1309 entries, 0 to 417\n",
      "Data columns (total 15 columns):\n",
      "PassengerId    1309 non-null int64\n",
      "Pclass         1309 non-null int64\n",
      "Name           1309 non-null object\n",
      "Sex            1309 non-null int64\n",
      "Age            1046 non-null float64\n",
      "SibSp          1309 non-null int64\n",
      "Parch          1309 non-null int64\n",
      "Ticket         1309 non-null object\n",
      "Fare           1308 non-null float64\n",
      "Cabin          1309 non-null object\n",
      "Embarked       1307 non-null object\n",
      "FamilySize     1309 non-null int64\n",
      "IsSolo         1309 non-null int64\n",
      "SmallGroup     1309 non-null int64\n",
      "Title          1309 non-null object\n",
      "dtypes: float64(2), int64(8), object(5)\n",
      "memory usage: 203.6+ KB\n"
     ]
    }
   ],
   "source": [
    "data.info()"
   ]
  },
  {
   "cell_type": "code",
   "execution_count": 30,
   "metadata": {},
   "outputs": [],
   "source": [
    "for title in data.Title.unique().tolist():\n",
    "    data.loc[data.Title == title, ['Age']] = data.loc[data.Title == title, ['Age']].fillna(data.loc[data.Title == title, ['Age']].mean())"
   ]
  },
  {
   "cell_type": "code",
   "execution_count": 31,
   "metadata": {},
   "outputs": [],
   "source": [
    "tickets = set(data.Ticket)\n",
    "ticket_numbers = []\n",
    "fares = []\n",
    "\n",
    "for ticket in tickets:\n",
    "    ticket_numbers.append(len(data[data.Ticket == ticket]))\n",
    "    fares.append(data['Fare'][data.Ticket == ticket].mean())"
   ]
  },
  {
   "cell_type": "code",
   "execution_count": 32,
   "metadata": {},
   "outputs": [],
   "source": [
    "tickets_sum = pd.DataFrame()\n",
    "tickets_sum['Ticket'] = list(tickets)\n",
    "tickets_sum['Count'] = ticket_numbers\n",
    "tickets_sum['Fare'] = fares\n",
    "tickets_sum['FarePP'] = tickets_sum['Fare']/tickets_sum['Count']\n",
    "tickets_sum = tickets_sum.drop(['Count', 'Fare'], axis=1)\n",
    "\n",
    "data = pd.merge(data, tickets_sum, 'left', 'Ticket')"
   ]
  },
  {
   "cell_type": "code",
   "execution_count": 33,
   "metadata": {},
   "outputs": [],
   "source": [
    "data.FarePP = data.FarePP.fillna(data.FarePP.median())"
   ]
  },
  {
   "cell_type": "code",
   "execution_count": 34,
   "metadata": {},
   "outputs": [
    {
     "data": {
      "text/plain": [
       "PassengerId    0\n",
       "Pclass         0\n",
       "Name           0\n",
       "Sex            0\n",
       "Age            0\n",
       "SibSp          0\n",
       "Parch          0\n",
       "Ticket         0\n",
       "Fare           1\n",
       "Cabin          0\n",
       "Embarked       2\n",
       "FamilySize     0\n",
       "IsSolo         0\n",
       "SmallGroup     0\n",
       "Title          0\n",
       "FarePP         0\n",
       "dtype: int64"
      ]
     },
     "execution_count": 34,
     "metadata": {},
     "output_type": "execute_result"
    }
   ],
   "source": [
    "data.isna().sum()"
   ]
  },
  {
   "cell_type": "code",
   "execution_count": 35,
   "metadata": {
    "scrolled": true
   },
   "outputs": [
    {
     "data": {
      "text/plain": [
       "<matplotlib.axes._subplots.AxesSubplot at 0x7fdd17dfbf10>"
      ]
     },
     "execution_count": 35,
     "metadata": {},
     "output_type": "execute_result"
    },
    {
     "data": {
      "image/png": "[encoded data removed]",
      "text/plain": [
       "<Figure size 720x360 with 1 Axes>"
      ]
     },
     "metadata": {
      "needs_background": "light"
     },
     "output_type": "display_data"
    }
   ],
   "source": [
    "plt.figure(figsize=(10, 5))\n",
    "sns.distplot(a=data.FarePP, kde=False)"
   ]
  },
  {
   "cell_type": "code",
   "execution_count": 36,
   "metadata": {
    "scrolled": true
   },
   "outputs": [
    {
     "name": "stdout",
     "output_type": "stream",
     "text": [
      "<class 'pandas.core.frame.DataFrame'>\n",
      "Int64Index: 1309 entries, 0 to 1308\n",
      "Data columns (total 16 columns):\n",
      "PassengerId    1309 non-null int64\n",
      "Pclass         1309 non-null int64\n",
      "Name           1309 non-null object\n",
      "Sex            1309 non-null int64\n",
      "Age            1309 non-null float64\n",
      "SibSp          1309 non-null int64\n",
      "Parch          1309 non-null int64\n",
      "Ticket         1309 non-null object\n",
      "Fare           1308 non-null float64\n",
      "Cabin          1309 non-null object\n",
      "Embarked       1307 non-null object\n",
      "FamilySize     1309 non-null int64\n",
      "IsSolo         1309 non-null int64\n",
      "SmallGroup     1309 non-null int64\n",
      "Title          1309 non-null object\n",
      "FarePP         1309 non-null float64\n",
      "dtypes: float64(3), int64(8), object(5)\n",
      "memory usage: 173.9+ KB\n"
     ]
    }
   ],
   "source": [
    "data.info()"
   ]
  },
  {
   "cell_type": "code",
   "execution_count": 37,
   "metadata": {},
   "outputs": [
    {
     "data": {
      "text/html": [
       "<div>\n",
       "<style scoped>\n",
       "    .dataframe tbody tr th:only-of-type {\n",
       "        vertical-align: middle;\n",
       "    }\n",
       "\n",
       "    .dataframe tbody tr th {\n",
       "        vertical-align: top;\n",
       "    }\n",
       "\n",
       "    .dataframe thead th {\n",
       "        text-align: right;\n",
       "    }\n",
       "</style>\n",
       "<table border=\"1\" class=\"dataframe\">\n",
       "  <thead>\n",
       "    <tr style=\"text-align: right;\">\n",
       "      <th></th>\n",
       "      <th>PassengerId</th>\n",
       "      <th>Pclass</th>\n",
       "      <th>Name</th>\n",
       "      <th>Sex</th>\n",
       "      <th>Age</th>\n",
       "      <th>SibSp</th>\n",
       "      <th>Parch</th>\n",
       "      <th>Ticket</th>\n",
       "      <th>Fare</th>\n",
       "      <th>Cabin</th>\n",
       "      <th>Embarked</th>\n",
       "      <th>FamilySize</th>\n",
       "      <th>IsSolo</th>\n",
       "      <th>SmallGroup</th>\n",
       "      <th>Title</th>\n",
       "      <th>FarePP</th>\n",
       "    </tr>\n",
       "  </thead>\n",
       "  <tbody>\n",
       "    <tr>\n",
       "      <th>0</th>\n",
       "      <td>1</td>\n",
       "      <td>3</td>\n",
       "      <td>Braund, Mr. Owen Harris</td>\n",
       "      <td>1</td>\n",
       "      <td>22.0</td>\n",
       "      <td>1</td>\n",
       "      <td>0</td>\n",
       "      <td>A/5 21171</td>\n",
       "      <td>7.2500</td>\n",
       "      <td>noCabin</td>\n",
       "      <td>S</td>\n",
       "      <td>2</td>\n",
       "      <td>0</td>\n",
       "      <td>1</td>\n",
       "      <td>Mr</td>\n",
       "      <td>7.25000</td>\n",
       "    </tr>\n",
       "    <tr>\n",
       "      <th>1</th>\n",
       "      <td>2</td>\n",
       "      <td>1</td>\n",
       "      <td>Cumings, Mrs. John Bradley (Florence Briggs Th...</td>\n",
       "      <td>0</td>\n",
       "      <td>38.0</td>\n",
       "      <td>1</td>\n",
       "      <td>0</td>\n",
       "      <td>PC 17599</td>\n",
       "      <td>71.2833</td>\n",
       "      <td>C</td>\n",
       "      <td>C</td>\n",
       "      <td>2</td>\n",
       "      <td>0</td>\n",
       "      <td>1</td>\n",
       "      <td>Mrs</td>\n",
       "      <td>35.64165</td>\n",
       "    </tr>\n",
       "    <tr>\n",
       "      <th>2</th>\n",
       "      <td>3</td>\n",
       "      <td>3</td>\n",
       "      <td>Heikkinen, Miss. Laina</td>\n",
       "      <td>0</td>\n",
       "      <td>26.0</td>\n",
       "      <td>0</td>\n",
       "      <td>0</td>\n",
       "      <td>STON/O2. 3101282</td>\n",
       "      <td>7.9250</td>\n",
       "      <td>noCabin</td>\n",
       "      <td>S</td>\n",
       "      <td>1</td>\n",
       "      <td>1</td>\n",
       "      <td>0</td>\n",
       "      <td>Miss</td>\n",
       "      <td>7.92500</td>\n",
       "    </tr>\n",
       "    <tr>\n",
       "      <th>3</th>\n",
       "      <td>4</td>\n",
       "      <td>1</td>\n",
       "      <td>Futrelle, Mrs. Jacques Heath (Lily May Peel)</td>\n",
       "      <td>0</td>\n",
       "      <td>35.0</td>\n",
       "      <td>1</td>\n",
       "      <td>0</td>\n",
       "      <td>113803</td>\n",
       "      <td>53.1000</td>\n",
       "      <td>C</td>\n",
       "      <td>S</td>\n",
       "      <td>2</td>\n",
       "      <td>0</td>\n",
       "      <td>1</td>\n",
       "      <td>Mrs</td>\n",
       "      <td>26.55000</td>\n",
       "    </tr>\n",
       "    <tr>\n",
       "      <th>4</th>\n",
       "      <td>5</td>\n",
       "      <td>3</td>\n",
       "      <td>Allen, Mr. William Henry</td>\n",
       "      <td>1</td>\n",
       "      <td>35.0</td>\n",
       "      <td>0</td>\n",
       "      <td>0</td>\n",
       "      <td>373450</td>\n",
       "      <td>8.0500</td>\n",
       "      <td>noCabin</td>\n",
       "      <td>S</td>\n",
       "      <td>1</td>\n",
       "      <td>1</td>\n",
       "      <td>0</td>\n",
       "      <td>Mr</td>\n",
       "      <td>8.05000</td>\n",
       "    </tr>\n",
       "  </tbody>\n",
       "</table>\n",
       "</div>"
      ],
      "text/plain": [
       "   PassengerId  Pclass                                               Name  \\\n",
       "0            1       3                            Braund, Mr. Owen Harris   \n",
       "1            2       1  Cumings, Mrs. John Bradley (Florence Briggs Th...   \n",
       "2            3       3                             Heikkinen, Miss. Laina   \n",
       "3            4       1       Futrelle, Mrs. Jacques Heath (Lily May Peel)   \n",
       "4            5       3                           Allen, Mr. William Henry   \n",
       "\n",
       "   Sex   Age  SibSp  Parch            Ticket     Fare    Cabin Embarked  \\\n",
       "0    1  22.0      1      0         A/5 21171   7.2500  noCabin        S   \n",
       "1    0  38.0      1      0          PC 17599  71.2833        C        C   \n",
       "2    0  26.0      0      0  STON/O2. 3101282   7.9250  noCabin        S   \n",
       "3    0  35.0      1      0            113803  53.1000        C        S   \n",
       "4    1  35.0      0      0            373450   8.0500  noCabin        S   \n",
       "\n",
       "   FamilySize  IsSolo  SmallGroup Title    FarePP  \n",
       "0           2       0           1    Mr   7.25000  \n",
       "1           2       0           1   Mrs  35.64165  \n",
       "2           1       1           0  Miss   7.92500  \n",
       "3           2       0           1   Mrs  26.55000  \n",
       "4           1       1           0    Mr   8.05000  "
      ]
     },
     "execution_count": 37,
     "metadata": {},
     "output_type": "execute_result"
    }
   ],
   "source": [
    "data.head()"
   ]
  },
  {
   "cell_type": "markdown",
   "metadata": {},
   "source": [
    "## Feature selection"
   ]
  },
  {
   "cell_type": "code",
   "execution_count": 38,
   "metadata": {},
   "outputs": [],
   "source": [
    "from sklearn.model_selection import train_test_split"
   ]
  },
  {
   "cell_type": "code",
   "execution_count": 39,
   "metadata": {},
   "outputs": [],
   "source": [
    "feats = ['PassengerId', 'Sex', 'Pclass', 'SibSp', 'Parch', 'FarePP', 'IsSolo', 'SmallGroup', 'FamilySize', 'Title']"
   ]
  },
  {
   "cell_type": "code",
   "execution_count": 40,
   "metadata": {},
   "outputs": [
    {
     "name": "stdout",
     "output_type": "stream",
     "text": [
      "<class 'pandas.core.frame.DataFrame'>\n",
      "Int64Index: 891 entries, 0 to 890\n",
      "Data columns (total 16 columns):\n",
      "PassengerId    891 non-null int64\n",
      "Pclass         891 non-null int64\n",
      "Name           891 non-null object\n",
      "Sex            891 non-null int64\n",
      "Age            891 non-null float64\n",
      "SibSp          891 non-null int64\n",
      "Parch          891 non-null int64\n",
      "Ticket         891 non-null object\n",
      "Fare           891 non-null float64\n",
      "Cabin          891 non-null object\n",
      "Embarked       889 non-null object\n",
      "FamilySize     891 non-null int64\n",
      "IsSolo         891 non-null int64\n",
      "SmallGroup     891 non-null int64\n",
      "Title          891 non-null object\n",
      "FarePP         891 non-null float64\n",
      "dtypes: float64(3), int64(8), object(5)\n",
      "memory usage: 118.3+ KB\n"
     ]
    }
   ],
   "source": [
    "data.loc[:890,].info()"
   ]
  },
  {
   "cell_type": "code",
   "execution_count": 41,
   "metadata": {},
   "outputs": [],
   "source": [
    "df = copy.copy(data)"
   ]
  },
  {
   "cell_type": "code",
   "execution_count": 42,
   "metadata": {},
   "outputs": [],
   "source": [
    "orig_feats = ['PassengerId', 'SibSp', 'Parch', 'FarePP', 'FamilySize']\n",
    "dummy_feats = ['Sex', 'Pclass', 'IsSolo', 'SmallGroup', 'Title']"
   ]
  },
  {
   "cell_type": "code",
   "execution_count": 43,
   "metadata": {},
   "outputs": [],
   "source": [
    "orig_df = df.loc[:, orig_feats]"
   ]
  },
  {
   "cell_type": "code",
   "execution_count": 44,
   "metadata": {},
   "outputs": [],
   "source": [
    "dummy_df = pd.get_dummies(df.loc[:, dummy_feats])"
   ]
  },
  {
   "cell_type": "code",
   "execution_count": 45,
   "metadata": {},
   "outputs": [
    {
     "name": "stdout",
     "output_type": "stream",
     "text": [
      "orig_df shape:\t(1309, 5)\n",
      "dummy_df shape:\t(1309, 12)\n"
     ]
    }
   ],
   "source": [
    "print(f'orig_df shape:\\t{orig_df.shape}')\n",
    "print(f'dummy_df shape:\\t{dummy_df.shape}')"
   ]
  },
  {
   "cell_type": "code",
   "execution_count": 46,
   "metadata": {},
   "outputs": [],
   "source": [
    "conc_df = pd.concat([orig_df, dummy_df], axis=1)"
   ]
  },
  {
   "cell_type": "code",
   "execution_count": 47,
   "metadata": {},
   "outputs": [
    {
     "data": {
      "text/html": [
       "<div>\n",
       "<style scoped>\n",
       "    .dataframe tbody tr th:only-of-type {\n",
       "        vertical-align: middle;\n",
       "    }\n",
       "\n",
       "    .dataframe tbody tr th {\n",
       "        vertical-align: top;\n",
       "    }\n",
       "\n",
       "    .dataframe thead th {\n",
       "        text-align: right;\n",
       "    }\n",
       "</style>\n",
       "<table border=\"1\" class=\"dataframe\">\n",
       "  <thead>\n",
       "    <tr style=\"text-align: right;\">\n",
       "      <th></th>\n",
       "      <th>PassengerId</th>\n",
       "      <th>SibSp</th>\n",
       "      <th>Parch</th>\n",
       "      <th>FarePP</th>\n",
       "      <th>FamilySize</th>\n",
       "      <th>Sex</th>\n",
       "      <th>Pclass</th>\n",
       "      <th>IsSolo</th>\n",
       "      <th>SmallGroup</th>\n",
       "      <th>Title_Dr</th>\n",
       "      <th>Title_Master</th>\n",
       "      <th>Title_Miss</th>\n",
       "      <th>Title_Mr</th>\n",
       "      <th>Title_Mrs</th>\n",
       "      <th>Title_Rev</th>\n",
       "      <th>Title_lady</th>\n",
       "      <th>Title_other</th>\n",
       "    </tr>\n",
       "  </thead>\n",
       "  <tbody>\n",
       "    <tr>\n",
       "      <th>0</th>\n",
       "      <td>1</td>\n",
       "      <td>1</td>\n",
       "      <td>0</td>\n",
       "      <td>7.25000</td>\n",
       "      <td>2</td>\n",
       "      <td>1</td>\n",
       "      <td>3</td>\n",
       "      <td>0</td>\n",
       "      <td>1</td>\n",
       "      <td>0</td>\n",
       "      <td>0</td>\n",
       "      <td>0</td>\n",
       "      <td>1</td>\n",
       "      <td>0</td>\n",
       "      <td>0</td>\n",
       "      <td>0</td>\n",
       "      <td>0</td>\n",
       "    </tr>\n",
       "    <tr>\n",
       "      <th>1</th>\n",
       "      <td>2</td>\n",
       "      <td>1</td>\n",
       "      <td>0</td>\n",
       "      <td>35.64165</td>\n",
       "      <td>2</td>\n",
       "      <td>0</td>\n",
       "      <td>1</td>\n",
       "      <td>0</td>\n",
       "      <td>1</td>\n",
       "      <td>0</td>\n",
       "      <td>0</td>\n",
       "      <td>0</td>\n",
       "      <td>0</td>\n",
       "      <td>1</td>\n",
       "      <td>0</td>\n",
       "      <td>0</td>\n",
       "      <td>0</td>\n",
       "    </tr>\n",
       "    <tr>\n",
       "      <th>2</th>\n",
       "      <td>3</td>\n",
       "      <td>0</td>\n",
       "      <td>0</td>\n",
       "      <td>7.92500</td>\n",
       "      <td>1</td>\n",
       "      <td>0</td>\n",
       "      <td>3</td>\n",
       "      <td>1</td>\n",
       "      <td>0</td>\n",
       "      <td>0</td>\n",
       "      <td>0</td>\n",
       "      <td>1</td>\n",
       "      <td>0</td>\n",
       "      <td>0</td>\n",
       "      <td>0</td>\n",
       "      <td>0</td>\n",
       "      <td>0</td>\n",
       "    </tr>\n",
       "    <tr>\n",
       "      <th>3</th>\n",
       "      <td>4</td>\n",
       "      <td>1</td>\n",
       "      <td>0</td>\n",
       "      <td>26.55000</td>\n",
       "      <td>2</td>\n",
       "      <td>0</td>\n",
       "      <td>1</td>\n",
       "      <td>0</td>\n",
       "      <td>1</td>\n",
       "      <td>0</td>\n",
       "      <td>0</td>\n",
       "      <td>0</td>\n",
       "      <td>0</td>\n",
       "      <td>1</td>\n",
       "      <td>0</td>\n",
       "      <td>0</td>\n",
       "      <td>0</td>\n",
       "    </tr>\n",
       "    <tr>\n",
       "      <th>4</th>\n",
       "      <td>5</td>\n",
       "      <td>0</td>\n",
       "      <td>0</td>\n",
       "      <td>8.05000</td>\n",
       "      <td>1</td>\n",
       "      <td>1</td>\n",
       "      <td>3</td>\n",
       "      <td>1</td>\n",
       "      <td>0</td>\n",
       "      <td>0</td>\n",
       "      <td>0</td>\n",
       "      <td>0</td>\n",
       "      <td>1</td>\n",
       "      <td>0</td>\n",
       "      <td>0</td>\n",
       "      <td>0</td>\n",
       "      <td>0</td>\n",
       "    </tr>\n",
       "  </tbody>\n",
       "</table>\n",
       "</div>"
      ],
      "text/plain": [
       "   PassengerId  SibSp  Parch    FarePP  FamilySize  Sex  Pclass  IsSolo  \\\n",
       "0            1      1      0   7.25000           2    1       3       0   \n",
       "1            2      1      0  35.64165           2    0       1       0   \n",
       "2            3      0      0   7.92500           1    0       3       1   \n",
       "3            4      1      0  26.55000           2    0       1       0   \n",
       "4            5      0      0   8.05000           1    1       3       1   \n",
       "\n",
       "   SmallGroup  Title_Dr  Title_Master  Title_Miss  Title_Mr  Title_Mrs  \\\n",
       "0           1         0             0           0         1          0   \n",
       "1           1         0             0           0         0          1   \n",
       "2           0         0             0           1         0          0   \n",
       "3           1         0             0           0         0          1   \n",
       "4           0         0             0           0         1          0   \n",
       "\n",
       "   Title_Rev  Title_lady  Title_other  \n",
       "0          0           0            0  \n",
       "1          0           0            0  \n",
       "2          0           0            0  \n",
       "3          0           0            0  \n",
       "4          0           0            0  "
      ]
     },
     "execution_count": 47,
     "metadata": {},
     "output_type": "execute_result"
    }
   ],
   "source": [
    "conc_df.head()"
   ]
  },
  {
   "cell_type": "code",
   "execution_count": 48,
   "metadata": {},
   "outputs": [
    {
     "data": {
      "text/html": [
       "<div>\n",
       "<style scoped>\n",
       "    .dataframe tbody tr th:only-of-type {\n",
       "        vertical-align: middle;\n",
       "    }\n",
       "\n",
       "    .dataframe tbody tr th {\n",
       "        vertical-align: top;\n",
       "    }\n",
       "\n",
       "    .dataframe thead th {\n",
       "        text-align: right;\n",
       "    }\n",
       "</style>\n",
       "<table border=\"1\" class=\"dataframe\">\n",
       "  <thead>\n",
       "    <tr style=\"text-align: right;\">\n",
       "      <th></th>\n",
       "      <th>PassengerId</th>\n",
       "      <th>SibSp</th>\n",
       "      <th>Parch</th>\n",
       "      <th>FarePP</th>\n",
       "      <th>FamilySize</th>\n",
       "      <th>Sex</th>\n",
       "      <th>Pclass</th>\n",
       "      <th>IsSolo</th>\n",
       "      <th>SmallGroup</th>\n",
       "      <th>Title_Dr</th>\n",
       "      <th>Title_Master</th>\n",
       "      <th>Title_Miss</th>\n",
       "      <th>Title_Mr</th>\n",
       "      <th>Title_Mrs</th>\n",
       "      <th>Title_Rev</th>\n",
       "      <th>Title_lady</th>\n",
       "      <th>Title_other</th>\n",
       "    </tr>\n",
       "  </thead>\n",
       "  <tbody>\n",
       "    <tr>\n",
       "      <th>885</th>\n",
       "      <td>886</td>\n",
       "      <td>0</td>\n",
       "      <td>5</td>\n",
       "      <td>4.854167</td>\n",
       "      <td>6</td>\n",
       "      <td>0</td>\n",
       "      <td>3</td>\n",
       "      <td>0</td>\n",
       "      <td>0</td>\n",
       "      <td>0</td>\n",
       "      <td>0</td>\n",
       "      <td>0</td>\n",
       "      <td>0</td>\n",
       "      <td>1</td>\n",
       "      <td>0</td>\n",
       "      <td>0</td>\n",
       "      <td>0</td>\n",
       "    </tr>\n",
       "    <tr>\n",
       "      <th>886</th>\n",
       "      <td>887</td>\n",
       "      <td>0</td>\n",
       "      <td>0</td>\n",
       "      <td>13.000000</td>\n",
       "      <td>1</td>\n",
       "      <td>1</td>\n",
       "      <td>2</td>\n",
       "      <td>1</td>\n",
       "      <td>0</td>\n",
       "      <td>0</td>\n",
       "      <td>0</td>\n",
       "      <td>0</td>\n",
       "      <td>0</td>\n",
       "      <td>0</td>\n",
       "      <td>1</td>\n",
       "      <td>0</td>\n",
       "      <td>0</td>\n",
       "    </tr>\n",
       "    <tr>\n",
       "      <th>887</th>\n",
       "      <td>888</td>\n",
       "      <td>0</td>\n",
       "      <td>0</td>\n",
       "      <td>30.000000</td>\n",
       "      <td>1</td>\n",
       "      <td>0</td>\n",
       "      <td>1</td>\n",
       "      <td>1</td>\n",
       "      <td>0</td>\n",
       "      <td>0</td>\n",
       "      <td>0</td>\n",
       "      <td>1</td>\n",
       "      <td>0</td>\n",
       "      <td>0</td>\n",
       "      <td>0</td>\n",
       "      <td>0</td>\n",
       "      <td>0</td>\n",
       "    </tr>\n",
       "    <tr>\n",
       "      <th>888</th>\n",
       "      <td>889</td>\n",
       "      <td>1</td>\n",
       "      <td>2</td>\n",
       "      <td>5.862500</td>\n",
       "      <td>4</td>\n",
       "      <td>0</td>\n",
       "      <td>3</td>\n",
       "      <td>0</td>\n",
       "      <td>1</td>\n",
       "      <td>0</td>\n",
       "      <td>0</td>\n",
       "      <td>1</td>\n",
       "      <td>0</td>\n",
       "      <td>0</td>\n",
       "      <td>0</td>\n",
       "      <td>0</td>\n",
       "      <td>0</td>\n",
       "    </tr>\n",
       "    <tr>\n",
       "      <th>889</th>\n",
       "      <td>890</td>\n",
       "      <td>0</td>\n",
       "      <td>0</td>\n",
       "      <td>30.000000</td>\n",
       "      <td>1</td>\n",
       "      <td>1</td>\n",
       "      <td>1</td>\n",
       "      <td>1</td>\n",
       "      <td>0</td>\n",
       "      <td>0</td>\n",
       "      <td>0</td>\n",
       "      <td>0</td>\n",
       "      <td>1</td>\n",
       "      <td>0</td>\n",
       "      <td>0</td>\n",
       "      <td>0</td>\n",
       "      <td>0</td>\n",
       "    </tr>\n",
       "    <tr>\n",
       "      <th>890</th>\n",
       "      <td>891</td>\n",
       "      <td>0</td>\n",
       "      <td>0</td>\n",
       "      <td>7.750000</td>\n",
       "      <td>1</td>\n",
       "      <td>1</td>\n",
       "      <td>3</td>\n",
       "      <td>1</td>\n",
       "      <td>0</td>\n",
       "      <td>0</td>\n",
       "      <td>0</td>\n",
       "      <td>0</td>\n",
       "      <td>1</td>\n",
       "      <td>0</td>\n",
       "      <td>0</td>\n",
       "      <td>0</td>\n",
       "      <td>0</td>\n",
       "    </tr>\n",
       "    <tr>\n",
       "      <th>891</th>\n",
       "      <td>892</td>\n",
       "      <td>0</td>\n",
       "      <td>0</td>\n",
       "      <td>7.829200</td>\n",
       "      <td>1</td>\n",
       "      <td>1</td>\n",
       "      <td>3</td>\n",
       "      <td>1</td>\n",
       "      <td>0</td>\n",
       "      <td>0</td>\n",
       "      <td>0</td>\n",
       "      <td>0</td>\n",
       "      <td>1</td>\n",
       "      <td>0</td>\n",
       "      <td>0</td>\n",
       "      <td>0</td>\n",
       "      <td>0</td>\n",
       "    </tr>\n",
       "    <tr>\n",
       "      <th>892</th>\n",
       "      <td>893</td>\n",
       "      <td>1</td>\n",
       "      <td>0</td>\n",
       "      <td>7.000000</td>\n",
       "      <td>2</td>\n",
       "      <td>0</td>\n",
       "      <td>3</td>\n",
       "      <td>0</td>\n",
       "      <td>1</td>\n",
       "      <td>0</td>\n",
       "      <td>0</td>\n",
       "      <td>0</td>\n",
       "      <td>0</td>\n",
       "      <td>1</td>\n",
       "      <td>0</td>\n",
       "      <td>0</td>\n",
       "      <td>0</td>\n",
       "    </tr>\n",
       "    <tr>\n",
       "      <th>893</th>\n",
       "      <td>894</td>\n",
       "      <td>0</td>\n",
       "      <td>0</td>\n",
       "      <td>9.687500</td>\n",
       "      <td>1</td>\n",
       "      <td>1</td>\n",
       "      <td>2</td>\n",
       "      <td>1</td>\n",
       "      <td>0</td>\n",
       "      <td>0</td>\n",
       "      <td>0</td>\n",
       "      <td>0</td>\n",
       "      <td>1</td>\n",
       "      <td>0</td>\n",
       "      <td>0</td>\n",
       "      <td>0</td>\n",
       "      <td>0</td>\n",
       "    </tr>\n",
       "    <tr>\n",
       "      <th>894</th>\n",
       "      <td>895</td>\n",
       "      <td>0</td>\n",
       "      <td>0</td>\n",
       "      <td>8.662500</td>\n",
       "      <td>1</td>\n",
       "      <td>1</td>\n",
       "      <td>3</td>\n",
       "      <td>1</td>\n",
       "      <td>0</td>\n",
       "      <td>0</td>\n",
       "      <td>0</td>\n",
       "      <td>0</td>\n",
       "      <td>1</td>\n",
       "      <td>0</td>\n",
       "      <td>0</td>\n",
       "      <td>0</td>\n",
       "      <td>0</td>\n",
       "    </tr>\n",
       "    <tr>\n",
       "      <th>895</th>\n",
       "      <td>896</td>\n",
       "      <td>1</td>\n",
       "      <td>1</td>\n",
       "      <td>6.143750</td>\n",
       "      <td>3</td>\n",
       "      <td>0</td>\n",
       "      <td>3</td>\n",
       "      <td>0</td>\n",
       "      <td>1</td>\n",
       "      <td>0</td>\n",
       "      <td>0</td>\n",
       "      <td>0</td>\n",
       "      <td>0</td>\n",
       "      <td>1</td>\n",
       "      <td>0</td>\n",
       "      <td>0</td>\n",
       "      <td>0</td>\n",
       "    </tr>\n",
       "  </tbody>\n",
       "</table>\n",
       "</div>"
      ],
      "text/plain": [
       "     PassengerId  SibSp  Parch     FarePP  FamilySize  Sex  Pclass  IsSolo  \\\n",
       "885          886      0      5   4.854167           6    0       3       0   \n",
       "886          887      0      0  13.000000           1    1       2       1   \n",
       "887          888      0      0  30.000000           1    0       1       1   \n",
       "888          889      1      2   5.862500           4    0       3       0   \n",
       "889          890      0      0  30.000000           1    1       1       1   \n",
       "890          891      0      0   7.750000           1    1       3       1   \n",
       "891          892      0      0   7.829200           1    1       3       1   \n",
       "892          893      1      0   7.000000           2    0       3       0   \n",
       "893          894      0      0   9.687500           1    1       2       1   \n",
       "894          895      0      0   8.662500           1    1       3       1   \n",
       "895          896      1      1   6.143750           3    0       3       0   \n",
       "\n",
       "     SmallGroup  Title_Dr  Title_Master  Title_Miss  Title_Mr  Title_Mrs  \\\n",
       "885           0         0             0           0         0          1   \n",
       "886           0         0             0           0         0          0   \n",
       "887           0         0             0           1         0          0   \n",
       "888           1         0             0           1         0          0   \n",
       "889           0         0             0           0         1          0   \n",
       "890           0         0             0           0         1          0   \n",
       "891           0         0             0           0         1          0   \n",
       "892           1         0             0           0         0          1   \n",
       "893           0         0             0           0         1          0   \n",
       "894           0         0             0           0         1          0   \n",
       "895           1         0             0           0         0          1   \n",
       "\n",
       "     Title_Rev  Title_lady  Title_other  \n",
       "885          0           0            0  \n",
       "886          1           0            0  \n",
       "887          0           0            0  \n",
       "888          0           0            0  \n",
       "889          0           0            0  \n",
       "890          0           0            0  \n",
       "891          0           0            0  \n",
       "892          0           0            0  \n",
       "893          0           0            0  \n",
       "894          0           0            0  \n",
       "895          0           0            0  "
      ]
     },
     "execution_count": 48,
     "metadata": {},
     "output_type": "execute_result"
    }
   ],
   "source": [
    "conc_df.loc[885:895, ]"
   ]
  },
  {
   "cell_type": "code",
   "execution_count": 49,
   "metadata": {},
   "outputs": [],
   "source": [
    "X = conc_df.loc[:890,]"
   ]
  },
  {
   "cell_type": "code",
   "execution_count": 50,
   "metadata": {},
   "outputs": [],
   "source": [
    "y = survived_train"
   ]
  },
  {
   "cell_type": "code",
   "execution_count": 51,
   "metadata": {},
   "outputs": [],
   "source": [
    "test_x = conc_df.loc[891:, ]"
   ]
  },
  {
   "cell_type": "code",
   "execution_count": 52,
   "metadata": {},
   "outputs": [
    {
     "data": {
      "text/plain": [
       "(891, 17)"
      ]
     },
     "execution_count": 52,
     "metadata": {},
     "output_type": "execute_result"
    }
   ],
   "source": [
    "X.shape"
   ]
  },
  {
   "cell_type": "code",
   "execution_count": 53,
   "metadata": {},
   "outputs": [
    {
     "data": {
      "text/plain": [
       "(418, 17)"
      ]
     },
     "execution_count": 53,
     "metadata": {},
     "output_type": "execute_result"
    }
   ],
   "source": [
    "test_x.shape"
   ]
  },
  {
   "cell_type": "code",
   "execution_count": 54,
   "metadata": {},
   "outputs": [
    {
     "name": "stdout",
     "output_type": "stream",
     "text": [
      "X shape:\t(891, 17)\n",
      "y len:\t\t891\n",
      "test_x shape:\t(418, 17)\n"
     ]
    }
   ],
   "source": [
    "print(f'X shape:\\t{X.shape}')\n",
    "print(f'y len:\\t\\t{len(y)}')\n",
    "print(f'test_x shape:\\t{test_x.shape}')"
   ]
  },
  {
   "cell_type": "code",
   "execution_count": 55,
   "metadata": {},
   "outputs": [],
   "source": [
    "train_x, val_x, train_y, val_y = train_test_split(X, y, random_state=0)"
   ]
  },
  {
   "cell_type": "code",
   "execution_count": 56,
   "metadata": {},
   "outputs": [
    {
     "name": "stdout",
     "output_type": "stream",
     "text": [
      "train_x.shape:\t(668, 17)\n",
      "train_y.shape:\t(668,)\n",
      "test_x.shape:\t(223, 17)\n"
     ]
    }
   ],
   "source": [
    "print(f'train_x.shape:\\t{train_x.shape}')\n",
    "print(f'train_y.shape:\\t{train_y.shape}')\n",
    "print(f'test_x.shape:\\t{val_x.shape}')"
   ]
  },
  {
   "cell_type": "markdown",
   "metadata": {},
   "source": [
    "## Modeling"
   ]
  },
  {
   "cell_type": "code",
   "execution_count": 57,
   "metadata": {},
   "outputs": [],
   "source": [
    "from sklearn.tree import DecisionTreeClassifier\n",
    "from sklearn.ensemble import RandomForestClassifier\n",
    "from sklearn.metrics import roc_auc_score, confusion_matrix, roc_curve\n",
    "from sklearn.model_selection import GridSearchCV, RandomizedSearchCV"
   ]
  },
  {
   "cell_type": "code",
   "execution_count": 58,
   "metadata": {},
   "outputs": [],
   "source": [
    "def get_measures(y, pred_y):\n",
    "    score_test = roc_auc_score(y, pred_y)\n",
    "    gini_index = 2*score_test-1\n",
    "    \n",
    "    df = pd.DataFrame({'AUC': [round(score_test, 4)], 'Gini': [round(gini_index, 4)]})\n",
    "    return df\n",
    "\n",
    "def calculating_metrics(model, test_x, val_x, test_y, val_y):\n",
    "    test = get_measures(test_y, model.predict_proba(test_x)[:, 1])\n",
    "    val = get_measures(val_y, model.predict_proba(val_x)[:, 1])\n",
    "    \n",
    "    return pd.concat([test, val]).set_index([pd.Index(['TRAIN', 'VAL'])])\n",
    "    "
   ]
  },
  {
   "cell_type": "markdown",
   "metadata": {},
   "source": [
    "### DecisionTreeClassifier"
   ]
  },
  {
   "cell_type": "code",
   "execution_count": 59,
   "metadata": {},
   "outputs": [],
   "source": [
    "grid_param = {\n",
    "    'max_depth': np.linspace(1, 15, 15),\n",
    "    'min_samples_split': np.linspace(0.01, 1, 10),\n",
    "    'min_samples_leaf': np.linspace(0.01, 0.5, 5),\n",
    "    'max_features': list(range(1, train_x.shape[1])),\n",
    "    \n",
    "}"
   ]
  },
  {
   "cell_type": "code",
   "execution_count": 60,
   "metadata": {},
   "outputs": [],
   "source": [
    "random_param = {\n",
    "    'max_depth': np.linspace(2, 20, 20),\n",
    "    \n",
    "}"
   ]
  },
  {
   "cell_type": "code",
   "execution_count": 61,
   "metadata": {},
   "outputs": [],
   "source": [
    "model_DTC = DecisionTreeClassifier(random_state=1)"
   ]
  },
  {
   "cell_type": "code",
   "execution_count": 62,
   "metadata": {},
   "outputs": [
    {
     "name": "stdout",
     "output_type": "stream",
     "text": [
      "{'max_depth': 5.0, 'max_features': 4, 'min_samples_leaf': 0.01, 'min_samples_split': 0.12}\n"
     ]
    }
   ],
   "source": [
    "grid = GridSearchCV(model_DTC, grid_param, scoring='roc_auc')\n",
    "grid.fit(train_x, train_y)\n",
    "best_parameters_DTC_grid = grid.best_params_\n",
    "print(best_parameters_DTC_grid)"
   ]
  },
  {
   "cell_type": "code",
   "execution_count": 63,
   "metadata": {},
   "outputs": [
    {
     "data": {
      "text/html": [
       "<div>\n",
       "<style scoped>\n",
       "    .dataframe tbody tr th:only-of-type {\n",
       "        vertical-align: middle;\n",
       "    }\n",
       "\n",
       "    .dataframe tbody tr th {\n",
       "        vertical-align: top;\n",
       "    }\n",
       "\n",
       "    .dataframe thead th {\n",
       "        text-align: right;\n",
       "    }\n",
       "</style>\n",
       "<table border=\"1\" class=\"dataframe\">\n",
       "  <thead>\n",
       "    <tr style=\"text-align: right;\">\n",
       "      <th></th>\n",
       "      <th>AUC</th>\n",
       "      <th>Gini</th>\n",
       "    </tr>\n",
       "  </thead>\n",
       "  <tbody>\n",
       "    <tr>\n",
       "      <th>TRAIN</th>\n",
       "      <td>0.8753</td>\n",
       "      <td>0.7506</td>\n",
       "    </tr>\n",
       "    <tr>\n",
       "      <th>VAL</th>\n",
       "      <td>0.8459</td>\n",
       "      <td>0.6918</td>\n",
       "    </tr>\n",
       "  </tbody>\n",
       "</table>\n",
       "</div>"
      ],
      "text/plain": [
       "          AUC    Gini\n",
       "TRAIN  0.8753  0.7506\n",
       "VAL    0.8459  0.6918"
      ]
     },
     "execution_count": 63,
     "metadata": {},
     "output_type": "execute_result"
    }
   ],
   "source": [
    "model_GS = DecisionTreeClassifier(**best_parameters_DTC_grid, random_state=1)\n",
    "model_GS.fit(train_x, train_y)\n",
    "cm_DTC_GS = calculating_metrics(model_GS, train_x, val_x, train_y, val_y)\n",
    "cm_DTC_GS"
   ]
  },
  {
   "cell_type": "code",
   "execution_count": 64,
   "metadata": {},
   "outputs": [
    {
     "data": {
      "text/plain": [
       "array([[115,  24],\n",
       "       [ 20,  64]])"
      ]
     },
     "execution_count": 64,
     "metadata": {},
     "output_type": "execute_result"
    }
   ],
   "source": [
    "c_matrix_dtc_gs = confusion_matrix(val_y, model_GS.predict(val_x))\n",
    "c_matrix_dtc_gs"
   ]
  },
  {
   "cell_type": "code",
   "execution_count": 65,
   "metadata": {},
   "outputs": [],
   "source": [
    "def perf_measure(y, y_pred):\n",
    "    TP = 0\n",
    "    FP = 0\n",
    "    TN = 0\n",
    "    FN = 0\n",
    "\n",
    "    for i in range(len(y_pred)): \n",
    "        if y[i]==y_pred[i] and y_pred[i]==1:\n",
    "           TP += 1\n",
    "        if y_pred[i]==1 and y[i]!=y_pred[i]:\n",
    "           FP += 1\n",
    "        if y[i]==y_pred[i] and y_pred[i]==0:\n",
    "           TN += 1\n",
    "        if y_pred[i]==0 and y[i]!=y_pred[i]:\n",
    "           FN += 1\n",
    "\n",
    "    return(TP, FP, TN, FN)"
   ]
  },
  {
   "cell_type": "code",
   "execution_count": 66,
   "metadata": {},
   "outputs": [],
   "source": [
    "real_y = val_y.to_numpy(dtype=int)"
   ]
  },
  {
   "cell_type": "code",
   "execution_count": 67,
   "metadata": {},
   "outputs": [],
   "source": [
    "predict_y = model_GS.predict(val_x)"
   ]
  },
  {
   "cell_type": "code",
   "execution_count": 68,
   "metadata": {},
   "outputs": [
    {
     "name": "stdout",
     "output_type": "stream",
     "text": [
      "TP:\t64\n",
      "FP:\t24\n",
      "TN:\t115\n",
      "FN:\t20\n"
     ]
    }
   ],
   "source": [
    "basic_measures = perf_measure(real_y, predict_y)\n",
    "print(f'TP:\\t{basic_measures[0]}\\nFP:\\t{basic_measures[1]}\\nTN:\\t{basic_measures[2]}\\nFN:\\t{basic_measures[3]}')"
   ]
  },
  {
   "cell_type": "code",
   "execution_count": 69,
   "metadata": {},
   "outputs": [],
   "source": [
    "TN = c_matrix_dtc_gs[0][0]\n",
    "FN = c_matrix_dtc_gs[1][0]\n",
    "TP = c_matrix_dtc_gs[1][1]\n",
    "FP = c_matrix_dtc_gs[0][1]"
   ]
  },
  {
   "cell_type": "code",
   "execution_count": 70,
   "metadata": {},
   "outputs": [],
   "source": [
    "def get_indicators(real_y, predict_y):\n",
    "    TP, FP, TN, FN = perf_measure(real_y, predict_y)\n",
    "    \n",
    "\n",
    "    pos = TP + FN\n",
    "    neg = TN + FP\n",
    "\n",
    "    tpr = TP / (TP + FN)\n",
    "    tnr = TN / (TN + FP)\n",
    "    fpr = FP / (FP + TN)\n",
    "    fnr = FN / (FN + TP)\n",
    "\n",
    "    acc = (TP + TN) / (TP + TN + FP + FN)\n",
    "\n",
    "    msg = (f'Number of positive observations:\\t\\t{pos}\\n'\n",
    "           f'Number of negative observations:\\t\\t{neg}\\n'\n",
    "           f'Total number of observations:\\t\\t\\t{pos+neg}\\n\\n'\n",
    "           f'TPR (True Positive Rate), SE (sensitivity):\\t{tpr:.4f}\\n'\n",
    "           f'TNR (True Negative Rate), SPC (specificity):\\t{tnr:.4f}\\n'\n",
    "           f'FPR (False Positive Rate):\\t\\t\\t{fpr:.4f}\\n'\n",
    "           f'FNR (False Negative Rate):\\t\\t\\t{fnr:.4f}\\n'\n",
    "           f'ACC (Total Accuracy):\\t\\t\\t\\t{acc:.4f}'\n",
    "          )\n",
    "    return msg"
   ]
  },
  {
   "cell_type": "code",
   "execution_count": 71,
   "metadata": {},
   "outputs": [
    {
     "name": "stdout",
     "output_type": "stream",
     "text": [
      "Number of positive observations:\t\t84\n",
      "Number of negative observations:\t\t139\n",
      "Total number of observations:\t\t\t223\n",
      "\n",
      "TPR (True Positive Rate), SE (sensitivity):\t0.7619\n",
      "TNR (True Negative Rate), SPC (specificity):\t0.8273\n",
      "FPR (False Positive Rate):\t\t\t0.1727\n",
      "FNR (False Negative Rate):\t\t\t0.2381\n",
      "ACC (Total Accuracy):\t\t\t\t0.8027\n"
     ]
    }
   ],
   "source": [
    "print(get_indicators(real_y, predict_y))"
   ]
  },
  {
   "cell_type": "code",
   "execution_count": 72,
   "metadata": {},
   "outputs": [],
   "source": [
    "model_GS.fit(train_x, train_y)\n",
    "b = (model_GS.predict_proba(val_x)[:, 1] >=0.4).astype(int)"
   ]
  },
  {
   "cell_type": "code",
   "execution_count": 73,
   "metadata": {},
   "outputs": [
    {
     "name": "stdout",
     "output_type": "stream",
     "text": [
      "0.1\t\t199\n",
      "0.2\t\t106\n",
      "0.3\t\t106\n",
      "0.4\t\t88\n",
      "0.5\t\t88\n",
      "0.6\t\t88\n",
      "0.7\t\t46\n",
      "0.8\t\t46\n",
      "0.9\t\t46\n",
      "1.0\t\t0\n"
     ]
    }
   ],
   "source": [
    "for t in np.linspace(0.1, 1, 10):\n",
    "    print(f'{t:.1f}\\t\\t{(model_GS.predict_proba(val_x)[:, 1] > t).sum()}')\n",
    "\n",
    "    "
   ]
  },
  {
   "cell_type": "code",
   "execution_count": 74,
   "metadata": {},
   "outputs": [],
   "source": [
    "pred_prob = model_GS.predict_proba(val_x)[:, 1]\n",
    "fpr_dtc_gs, tpr_dtc_gs, th = roc_curve(val_y, pred_prob)\n",
    "auc_dts_gs = roc_auc_score(val_y, pred_prob)"
   ]
  },
  {
   "cell_type": "code",
   "execution_count": 75,
   "metadata": {},
   "outputs": [
    {
     "name": "stdout",
     "output_type": "stream",
     "text": [
      "AUC: 0.8459\n"
     ]
    },
    {
     "data": {
      "image/png": "[encoded data removed]",
      "text/plain": [
       "<Figure size 432x432 with 1 Axes>"
      ]
     },
     "metadata": {
      "needs_background": "light"
     },
     "output_type": "display_data"
    }
   ],
   "source": [
    "plt.figure(figsize=(6, 6))\n",
    "plt.plot(fpr_dtc_gs, tpr_dtc_gs, 'o-')\n",
    "plt.ylabel('TPR')\n",
    "plt.xlabel('FPR')\n",
    "print(f'AUC: {auc_dts_gs:.4f}')"
   ]
  },
  {
   "cell_type": "code",
   "execution_count": 76,
   "metadata": {},
   "outputs": [
    {
     "name": "stdout",
     "output_type": "stream",
     "text": [
      "{'min_samples_split': 0.23, 'min_samples_leaf': 0.1325, 'max_features': 14, 'max_depth': 11.0}\n"
     ]
    }
   ],
   "source": [
    "random_search = RandomizedSearchCV(model_DTC, grid_param, n_iter=200, scoring='roc_auc')\n",
    "random_search.fit(train_x, train_y)\n",
    "best_parameters_DTC_random = random_search.best_params_\n",
    "print(best_parameters_DTC_random)"
   ]
  },
  {
   "cell_type": "code",
   "execution_count": 77,
   "metadata": {},
   "outputs": [
    {
     "data": {
      "text/html": [
       "<div>\n",
       "<style scoped>\n",
       "    .dataframe tbody tr th:only-of-type {\n",
       "        vertical-align: middle;\n",
       "    }\n",
       "\n",
       "    .dataframe tbody tr th {\n",
       "        vertical-align: top;\n",
       "    }\n",
       "\n",
       "    .dataframe thead th {\n",
       "        text-align: right;\n",
       "    }\n",
       "</style>\n",
       "<table border=\"1\" class=\"dataframe\">\n",
       "  <thead>\n",
       "    <tr style=\"text-align: right;\">\n",
       "      <th></th>\n",
       "      <th>AUC</th>\n",
       "      <th>Gini</th>\n",
       "    </tr>\n",
       "  </thead>\n",
       "  <tbody>\n",
       "    <tr>\n",
       "      <th>TRAIN</th>\n",
       "      <td>0.8525</td>\n",
       "      <td>0.7049</td>\n",
       "    </tr>\n",
       "    <tr>\n",
       "      <th>VAL</th>\n",
       "      <td>0.8391</td>\n",
       "      <td>0.6782</td>\n",
       "    </tr>\n",
       "  </tbody>\n",
       "</table>\n",
       "</div>"
      ],
      "text/plain": [
       "          AUC    Gini\n",
       "TRAIN  0.8525  0.7049\n",
       "VAL    0.8391  0.6782"
      ]
     },
     "execution_count": 77,
     "metadata": {},
     "output_type": "execute_result"
    }
   ],
   "source": [
    "model_RS = DecisionTreeClassifier(**best_parameters_DTC_random, random_state=1)\n",
    "model_RS.fit(train_x, train_y)\n",
    "cm_DTC_RS = calculating_metrics(model_RS, train_x, val_x, train_y, val_y)\n",
    "cm_DTC_RS"
   ]
  },
  {
   "cell_type": "code",
   "execution_count": 78,
   "metadata": {},
   "outputs": [],
   "source": [
    "from hyperopt import hp, STATUS_OK, Trials, fmin, tpe, partial"
   ]
  },
  {
   "cell_type": "code",
   "execution_count": 79,
   "metadata": {},
   "outputs": [],
   "source": [
    "n_startup_jobs = 80\n",
    "max_evals = 500\n",
    "BS_results = []"
   ]
  },
  {
   "cell_type": "code",
   "execution_count": 80,
   "metadata": {},
   "outputs": [],
   "source": [
    "b_opt_space = {\n",
    "    'max_depth': hp.quniform('max_depth', 1, 15, 1),\n",
    "    'min_samples_split': hp.uniform('min_samples_split', 0.01, 1),\n",
    "    'min_samples_leaf': hp.uniform('min_samples_leaf', 0.01, 0.5),\n",
    "    'max_features': hp.quniform('max_features', 1, train_x.shape[1], 1)\n",
    "}"
   ]
  },
  {
   "cell_type": "code",
   "execution_count": 81,
   "metadata": {},
   "outputs": [],
   "source": [
    "def objective(space):\n",
    "    b_params = {\n",
    "        'max_depth': int(space['max_depth']),\n",
    "        'min_samples_split': space['min_samples_split'],\n",
    "        'min_samples_leaf': space['min_samples_leaf'],\n",
    "        'max_features': int(space['max_features'])\n",
    "    }\n",
    "    model = DecisionTreeClassifier(**b_params, random_state=0)\n",
    "    model.fit(train_x, train_y)\n",
    "    pred_y = model.predict(val_x)\n",
    "    \n",
    "    score = -roc_auc_score(val_y, pred_y)\n",
    "    return {'loss': score, 'status': STATUS_OK}"
   ]
  },
  {
   "cell_type": "code",
   "execution_count": 82,
   "metadata": {},
   "outputs": [
    {
     "name": "stdout",
     "output_type": "stream",
     "text": [
      "100%|██████████| 500/500 [00:19<00:00, 25.22trial/s, best loss: -0.8354316546762591]\n",
      "best params: {'max_depth': 9.0, 'max_features': 15.0, 'min_samples_leaf': 0.022261557105642836, 'min_samples_split': 0.010857583155608107}\n"
     ]
    }
   ],
   "source": [
    "trials = Trials()\n",
    "best_parameters_DTC_bayesian = fmin(fn=objective,\n",
    "                   space=b_opt_space, \n",
    "                   algo=partial(tpe.suggest, n_startup_jobs=n_startup_jobs),\n",
    "                   max_evals=max_evals,\n",
    "                   trials=trials\n",
    "                  )\n",
    "print(f'best params: {best_parameters_DTC_bayesian}')"
   ]
  },
  {
   "cell_type": "code",
   "execution_count": 83,
   "metadata": {},
   "outputs": [],
   "source": [
    "best_parameters_DTC_bayesian['max_features'] = int(best_parameters_DTC_bayesian['max_features'])"
   ]
  },
  {
   "cell_type": "code",
   "execution_count": 84,
   "metadata": {},
   "outputs": [
    {
     "data": {
      "text/html": [
       "<div>\n",
       "<style scoped>\n",
       "    .dataframe tbody tr th:only-of-type {\n",
       "        vertical-align: middle;\n",
       "    }\n",
       "\n",
       "    .dataframe tbody tr th {\n",
       "        vertical-align: top;\n",
       "    }\n",
       "\n",
       "    .dataframe thead th {\n",
       "        text-align: right;\n",
       "    }\n",
       "</style>\n",
       "<table border=\"1\" class=\"dataframe\">\n",
       "  <thead>\n",
       "    <tr style=\"text-align: right;\">\n",
       "      <th></th>\n",
       "      <th>AUC</th>\n",
       "      <th>Gini</th>\n",
       "    </tr>\n",
       "  </thead>\n",
       "  <tbody>\n",
       "    <tr>\n",
       "      <th>TRAIN</th>\n",
       "      <td>0.9086</td>\n",
       "      <td>0.8171</td>\n",
       "    </tr>\n",
       "    <tr>\n",
       "      <th>VAL</th>\n",
       "      <td>0.8397</td>\n",
       "      <td>0.6793</td>\n",
       "    </tr>\n",
       "  </tbody>\n",
       "</table>\n",
       "</div>"
      ],
      "text/plain": [
       "          AUC    Gini\n",
       "TRAIN  0.9086  0.8171\n",
       "VAL    0.8397  0.6793"
      ]
     },
     "execution_count": 84,
     "metadata": {},
     "output_type": "execute_result"
    }
   ],
   "source": [
    "model_BO = DecisionTreeClassifier(**best_parameters_DTC_bayesian, random_state=1)\n",
    "model_BO.fit(train_x, train_y)\n",
    "cm_DTC_BO = calculating_metrics(model_BO, train_x, val_x, train_y, val_y)\n",
    "cm_DTC_BO"
   ]
  },
  {
   "cell_type": "code",
   "execution_count": 85,
   "metadata": {},
   "outputs": [],
   "source": [
    "cm_DTC_GS_styler = cm_DTC_GS.style.set_table_attributes(\"style='display:inline'\").set_caption('GridSearchCV')\n",
    "cm_DTC_RS_styler = cm_DTC_RS.style.set_table_attributes(\"style='display:inline'\").set_caption('RandomSearchCV')\n",
    "cm_DTC_BO_styler = cm_DTC_BO.style.set_table_attributes(\"style='display:inline'\").set_caption('Bayesian Optimization')"
   ]
  },
  {
   "cell_type": "code",
   "execution_count": 86,
   "metadata": {},
   "outputs": [
    {
     "data": {
      "text/html": [
       "<style  type=\"text/css\" >\n",
       "</style><table id=\"T_59e5cc04_4af5_11ea_9cdb_df838bea1989\" style='display:inline'><caption>GridSearchCV</caption><thead>    <tr>        <th class=\"blank level0\" ></th>        <th class=\"col_heading level0 col0\" >AUC</th>        <th class=\"col_heading level0 col1\" >Gini</th>    </tr></thead><tbody>\n",
       "                <tr>\n",
       "                        <th id=\"T_59e5cc04_4af5_11ea_9cdb_df838bea1989level0_row0\" class=\"row_heading level0 row0\" >TRAIN</th>\n",
       "                        <td id=\"T_59e5cc04_4af5_11ea_9cdb_df838bea1989row0_col0\" class=\"data row0 col0\" >0.8753</td>\n",
       "                        <td id=\"T_59e5cc04_4af5_11ea_9cdb_df838bea1989row0_col1\" class=\"data row0 col1\" >0.7506</td>\n",
       "            </tr>\n",
       "            <tr>\n",
       "                        <th id=\"T_59e5cc04_4af5_11ea_9cdb_df838bea1989level0_row1\" class=\"row_heading level0 row1\" >VAL</th>\n",
       "                        <td id=\"T_59e5cc04_4af5_11ea_9cdb_df838bea1989row1_col0\" class=\"data row1 col0\" >0.8459</td>\n",
       "                        <td id=\"T_59e5cc04_4af5_11ea_9cdb_df838bea1989row1_col1\" class=\"data row1 col1\" >0.6918</td>\n",
       "            </tr>\n",
       "    </tbody></table><style  type=\"text/css\" >\n",
       "</style><table id=\"T_59e6485a_4af5_11ea_9cdb_df838bea1989\" style='display:inline'><caption>RandomSearchCV</caption><thead>    <tr>        <th class=\"blank level0\" ></th>        <th class=\"col_heading level0 col0\" >AUC</th>        <th class=\"col_heading level0 col1\" >Gini</th>    </tr></thead><tbody>\n",
       "                <tr>\n",
       "                        <th id=\"T_59e6485a_4af5_11ea_9cdb_df838bea1989level0_row0\" class=\"row_heading level0 row0\" >TRAIN</th>\n",
       "                        <td id=\"T_59e6485a_4af5_11ea_9cdb_df838bea1989row0_col0\" class=\"data row0 col0\" >0.8525</td>\n",
       "                        <td id=\"T_59e6485a_4af5_11ea_9cdb_df838bea1989row0_col1\" class=\"data row0 col1\" >0.7049</td>\n",
       "            </tr>\n",
       "            <tr>\n",
       "                        <th id=\"T_59e6485a_4af5_11ea_9cdb_df838bea1989level0_row1\" class=\"row_heading level0 row1\" >VAL</th>\n",
       "                        <td id=\"T_59e6485a_4af5_11ea_9cdb_df838bea1989row1_col0\" class=\"data row1 col0\" >0.8391</td>\n",
       "                        <td id=\"T_59e6485a_4af5_11ea_9cdb_df838bea1989row1_col1\" class=\"data row1 col1\" >0.6782</td>\n",
       "            </tr>\n",
       "    </tbody></table><style  type=\"text/css\" >\n",
       "</style><table id=\"T_59e68342_4af5_11ea_9cdb_df838bea1989\" style='display:inline'><caption>Bayesian Optimization</caption><thead>    <tr>        <th class=\"blank level0\" ></th>        <th class=\"col_heading level0 col0\" >AUC</th>        <th class=\"col_heading level0 col1\" >Gini</th>    </tr></thead><tbody>\n",
       "                <tr>\n",
       "                        <th id=\"T_59e68342_4af5_11ea_9cdb_df838bea1989level0_row0\" class=\"row_heading level0 row0\" >TRAIN</th>\n",
       "                        <td id=\"T_59e68342_4af5_11ea_9cdb_df838bea1989row0_col0\" class=\"data row0 col0\" >0.9086</td>\n",
       "                        <td id=\"T_59e68342_4af5_11ea_9cdb_df838bea1989row0_col1\" class=\"data row0 col1\" >0.8171</td>\n",
       "            </tr>\n",
       "            <tr>\n",
       "                        <th id=\"T_59e68342_4af5_11ea_9cdb_df838bea1989level0_row1\" class=\"row_heading level0 row1\" >VAL</th>\n",
       "                        <td id=\"T_59e68342_4af5_11ea_9cdb_df838bea1989row1_col0\" class=\"data row1 col0\" >0.8397</td>\n",
       "                        <td id=\"T_59e68342_4af5_11ea_9cdb_df838bea1989row1_col1\" class=\"data row1 col1\" >0.6793</td>\n",
       "            </tr>\n",
       "    </tbody></table>"
      ]
     },
     "metadata": {},
     "output_type": "display_data"
    }
   ],
   "source": [
    "display_html(cm_DTC_GS_styler._repr_html_()+cm_DTC_RS_styler._repr_html_()+cm_DTC_BO_styler._repr_html_(), raw=True)"
   ]
  },
  {
   "cell_type": "code",
   "execution_count": 87,
   "metadata": {},
   "outputs": [
    {
     "data": {
      "text/html": [
       "<div>\n",
       "<style scoped>\n",
       "    .dataframe tbody tr th:only-of-type {\n",
       "        vertical-align: middle;\n",
       "    }\n",
       "\n",
       "    .dataframe tbody tr th {\n",
       "        vertical-align: top;\n",
       "    }\n",
       "\n",
       "    .dataframe thead tr th {\n",
       "        text-align: left;\n",
       "    }\n",
       "</style>\n",
       "<table border=\"1\" class=\"dataframe\">\n",
       "  <thead>\n",
       "    <tr>\n",
       "      <th></th>\n",
       "      <th colspan=\"2\" halign=\"left\">GidSearchCV</th>\n",
       "      <th colspan=\"2\" halign=\"left\">RandomSearchCV</th>\n",
       "      <th colspan=\"2\" halign=\"left\">Bayesian Optimization</th>\n",
       "    </tr>\n",
       "    <tr>\n",
       "      <th></th>\n",
       "      <th>AUC</th>\n",
       "      <th>Gini</th>\n",
       "      <th>AUC</th>\n",
       "      <th>Gini</th>\n",
       "      <th>AUC</th>\n",
       "      <th>Gini</th>\n",
       "    </tr>\n",
       "  </thead>\n",
       "  <tbody>\n",
       "    <tr>\n",
       "      <th>TRAIN</th>\n",
       "      <td>0.8753</td>\n",
       "      <td>0.7506</td>\n",
       "      <td>0.8525</td>\n",
       "      <td>0.7049</td>\n",
       "      <td>0.9086</td>\n",
       "      <td>0.8171</td>\n",
       "    </tr>\n",
       "    <tr>\n",
       "      <th>VAL</th>\n",
       "      <td>0.8459</td>\n",
       "      <td>0.6918</td>\n",
       "      <td>0.8391</td>\n",
       "      <td>0.6782</td>\n",
       "      <td>0.8397</td>\n",
       "      <td>0.6793</td>\n",
       "    </tr>\n",
       "  </tbody>\n",
       "</table>\n",
       "</div>"
      ],
      "text/plain": [
       "      GidSearchCV         RandomSearchCV         Bayesian Optimization        \n",
       "              AUC    Gini            AUC    Gini                   AUC    Gini\n",
       "TRAIN      0.8753  0.7506         0.8525  0.7049                0.9086  0.8171\n",
       "VAL        0.8459  0.6918         0.8391  0.6782                0.8397  0.6793"
      ]
     },
     "execution_count": 87,
     "metadata": {},
     "output_type": "execute_result"
    }
   ],
   "source": [
    "results_DTC = pd.concat([cm_DTC_GS, cm_DTC_RS, cm_DTC_BO],\n",
    "                        axis=1,\n",
    "                        keys={'GidSearchCV': cm_DTC_GS,\n",
    "                              'RandomSearchCV': cm_DTC_RS,\n",
    "                              'Bayesian Optimization': cm_DTC_BO}\n",
    "                       )\n",
    "results_DTC"
   ]
  },
  {
   "cell_type": "markdown",
   "metadata": {},
   "source": [
    "### RandomForestClassifier"
   ]
  },
  {
   "cell_type": "code",
   "execution_count": 88,
   "metadata": {},
   "outputs": [],
   "source": [
    "grid_param_RFC = {\n",
    "    'n_estimators': [200, 250, 300],\n",
    "#     'max_features': ['auto', 'sqrt', 'log2'],\n",
    "    'max_depth': [20, None],\n",
    "    'min_samples_split': [5, 10, 12],\n",
    "    'min_samples_leaf': [2, 3, 4, 5]\n",
    "}"
   ]
  },
  {
   "cell_type": "code",
   "execution_count": 89,
   "metadata": {},
   "outputs": [],
   "source": [
    "model_RFC = RandomForestClassifier(random_state=1)"
   ]
  },
  {
   "cell_type": "code",
   "execution_count": 90,
   "metadata": {},
   "outputs": [
    {
     "name": "stdout",
     "output_type": "stream",
     "text": [
      "{'max_depth': 20, 'min_samples_leaf': 4, 'min_samples_split': 12, 'n_estimators': 250}\n"
     ]
    }
   ],
   "source": [
    "grid_RFC_GS = GridSearchCV(model_RFC, grid_param_RFC, scoring='roc_auc')\n",
    "grid_RFC_GS.fit(train_x, train_y)\n",
    "best_parameters_RFC_grid = grid_RFC_GS.best_params_\n",
    "print(best_parameters_RFC_grid)"
   ]
  },
  {
   "cell_type": "code",
   "execution_count": 91,
   "metadata": {},
   "outputs": [
    {
     "data": {
      "text/html": [
       "<div>\n",
       "<style scoped>\n",
       "    .dataframe tbody tr th:only-of-type {\n",
       "        vertical-align: middle;\n",
       "    }\n",
       "\n",
       "    .dataframe tbody tr th {\n",
       "        vertical-align: top;\n",
       "    }\n",
       "\n",
       "    .dataframe thead th {\n",
       "        text-align: right;\n",
       "    }\n",
       "</style>\n",
       "<table border=\"1\" class=\"dataframe\">\n",
       "  <thead>\n",
       "    <tr style=\"text-align: right;\">\n",
       "      <th></th>\n",
       "      <th>AUC</th>\n",
       "      <th>Gini</th>\n",
       "    </tr>\n",
       "  </thead>\n",
       "  <tbody>\n",
       "    <tr>\n",
       "      <th>TRAIN</th>\n",
       "      <td>0.9445</td>\n",
       "      <td>0.8889</td>\n",
       "    </tr>\n",
       "    <tr>\n",
       "      <th>VAL</th>\n",
       "      <td>0.8845</td>\n",
       "      <td>0.7691</td>\n",
       "    </tr>\n",
       "  </tbody>\n",
       "</table>\n",
       "</div>"
      ],
      "text/plain": [
       "          AUC    Gini\n",
       "TRAIN  0.9445  0.8889\n",
       "VAL    0.8845  0.7691"
      ]
     },
     "execution_count": 91,
     "metadata": {},
     "output_type": "execute_result"
    }
   ],
   "source": [
    "model_RFC_GS = RandomForestClassifier(**best_parameters_RFC_grid, random_state=1)\n",
    "model_RFC_GS.fit(train_x, train_y)\n",
    "cm_RFC_GS = calculating_metrics(model_RFC_GS, train_x, val_x, train_y, val_y)\n",
    "cm_RFC_GS"
   ]
  },
  {
   "cell_type": "code",
   "execution_count": 92,
   "metadata": {},
   "outputs": [
    {
     "name": "stdout",
     "output_type": "stream",
     "text": [
      "{'n_estimators': 250, 'min_samples_split': 12, 'min_samples_leaf': 3, 'max_depth': None}\n"
     ]
    }
   ],
   "source": [
    "random_RFC_RS = RandomizedSearchCV(model_RFC, grid_param_RFC, scoring='roc_auc')\n",
    "random_RFC_RS.fit(train_x, train_y)\n",
    "best_parameters_RFC_random = random_RFC_RS.best_params_\n",
    "print(best_parameters_RFC_random)"
   ]
  },
  {
   "cell_type": "code",
   "execution_count": 93,
   "metadata": {},
   "outputs": [
    {
     "data": {
      "text/html": [
       "<div>\n",
       "<style scoped>\n",
       "    .dataframe tbody tr th:only-of-type {\n",
       "        vertical-align: middle;\n",
       "    }\n",
       "\n",
       "    .dataframe tbody tr th {\n",
       "        vertical-align: top;\n",
       "    }\n",
       "\n",
       "    .dataframe thead th {\n",
       "        text-align: right;\n",
       "    }\n",
       "</style>\n",
       "<table border=\"1\" class=\"dataframe\">\n",
       "  <thead>\n",
       "    <tr style=\"text-align: right;\">\n",
       "      <th></th>\n",
       "      <th>AUC</th>\n",
       "      <th>Gini</th>\n",
       "    </tr>\n",
       "  </thead>\n",
       "  <tbody>\n",
       "    <tr>\n",
       "      <th>TRAIN</th>\n",
       "      <td>0.9508</td>\n",
       "      <td>0.9017</td>\n",
       "    </tr>\n",
       "    <tr>\n",
       "      <th>VAL</th>\n",
       "      <td>0.8846</td>\n",
       "      <td>0.7693</td>\n",
       "    </tr>\n",
       "  </tbody>\n",
       "</table>\n",
       "</div>"
      ],
      "text/plain": [
       "          AUC    Gini\n",
       "TRAIN  0.9508  0.9017\n",
       "VAL    0.8846  0.7693"
      ]
     },
     "execution_count": 93,
     "metadata": {},
     "output_type": "execute_result"
    }
   ],
   "source": [
    "model_RFC_RS = RandomForestClassifier(**best_parameters_RFC_random, random_state=1)\n",
    "model_RFC_RS.fit(train_x, train_y)\n",
    "cm_RFC_RS = calculating_metrics(model_RFC_RS, train_x, val_x, train_y, val_y)\n",
    "cm_RFC_RS"
   ]
  },
  {
   "cell_type": "markdown",
   "metadata": {},
   "source": [
    "### hyperopt"
   ]
  },
  {
   "cell_type": "code",
   "execution_count": 94,
   "metadata": {},
   "outputs": [],
   "source": [
    "b_opt_space = {\n",
    "    'n_estimators': hp.quniform('n_estimators', 200, 300, 50),\n",
    "    'max_depth': hp.quniform('max_depth', 10, 30, 2),\n",
    "    'min_samples_split': hp.quniform('min_samples_split', 4, 116, 2),\n",
    "    'min_samples_leaf': hp.quniform('min_samples_leaf', 2, 8, 2)\n",
    "}"
   ]
  },
  {
   "cell_type": "code",
   "execution_count": 95,
   "metadata": {},
   "outputs": [],
   "source": [
    "def objective(space):\n",
    "    b_opt_space = {\n",
    "        'n_estimators': int(space['n_estimators']),\n",
    "        'max_depth': int(space['max_depth']),\n",
    "        'min_samples_split': int(space['min_samples_split']),\n",
    "        'min_samples_leaf': int(space['min_samples_leaf']),\n",
    "    }\n",
    "    model = RandomForestClassifier(**b_opt_space, random_state=0)\n",
    "    model.fit(train_x, train_y)\n",
    "    pred_y = model.predict(val_x)\n",
    "    score = -roc_auc_score(val_y, pred_y)\n",
    "    return {'loss': score, 'status': STATUS_OK}"
   ]
  },
  {
   "cell_type": "code",
   "execution_count": 96,
   "metadata": {},
   "outputs": [
    {
     "name": "stdout",
     "output_type": "stream",
     "text": [
      "100%|██████████| 500/500 [04:12<00:00,  1.98trial/s, best loss: -0.8340613223706749]\n",
      "best params: {'max_depth': 16.0, 'min_samples_leaf': 2.0, 'min_samples_split': 4.0, 'n_estimators': 250.0}\n"
     ]
    }
   ],
   "source": [
    "trials = Trials()\n",
    "best_parameters_RFC_bayesian = fmin(fn=objective,\n",
    "                                    space=b_opt_space,\n",
    "                                    algo=partial(tpe.suggest, n_startup_jobs=n_startup_jobs),\n",
    "                                    max_evals=max_evals,\n",
    "                                    trials=trials\n",
    "                                   )\n",
    "print(f'best params: {best_parameters_RFC_bayesian}')"
   ]
  },
  {
   "cell_type": "code",
   "execution_count": 97,
   "metadata": {},
   "outputs": [],
   "source": [
    "best_parameters_RFC_bayesian['n_estimators'] = int(best_parameters_RFC_bayesian['n_estimators'])\n",
    "best_parameters_RFC_bayesian['max_depth'] = int(best_parameters_RFC_bayesian['max_depth'])\n",
    "best_parameters_RFC_bayesian['min_samples_split'] = int(best_parameters_RFC_bayesian['min_samples_split'])\n",
    "best_parameters_RFC_bayesian['min_samples_leaf'] = int(best_parameters_RFC_bayesian['min_samples_leaf'])"
   ]
  },
  {
   "cell_type": "code",
   "execution_count": 98,
   "metadata": {},
   "outputs": [
    {
     "data": {
      "text/html": [
       "<div>\n",
       "<style scoped>\n",
       "    .dataframe tbody tr th:only-of-type {\n",
       "        vertical-align: middle;\n",
       "    }\n",
       "\n",
       "    .dataframe tbody tr th {\n",
       "        vertical-align: top;\n",
       "    }\n",
       "\n",
       "    .dataframe thead th {\n",
       "        text-align: right;\n",
       "    }\n",
       "</style>\n",
       "<table border=\"1\" class=\"dataframe\">\n",
       "  <thead>\n",
       "    <tr style=\"text-align: right;\">\n",
       "      <th></th>\n",
       "      <th>AUC</th>\n",
       "      <th>Gini</th>\n",
       "    </tr>\n",
       "  </thead>\n",
       "  <tbody>\n",
       "    <tr>\n",
       "      <th>TRAIN</th>\n",
       "      <td>0.9792</td>\n",
       "      <td>0.9583</td>\n",
       "    </tr>\n",
       "    <tr>\n",
       "      <th>VAL</th>\n",
       "      <td>0.8923</td>\n",
       "      <td>0.7847</td>\n",
       "    </tr>\n",
       "  </tbody>\n",
       "</table>\n",
       "</div>"
      ],
      "text/plain": [
       "          AUC    Gini\n",
       "TRAIN  0.9792  0.9583\n",
       "VAL    0.8923  0.7847"
      ]
     },
     "execution_count": 98,
     "metadata": {},
     "output_type": "execute_result"
    }
   ],
   "source": [
    "model_RFC_BO = RandomForestClassifier(**best_parameters_RFC_bayesian, random_state=0)\n",
    "model_RFC_BO.fit(train_x, train_y)\n",
    "cm_RFC_BO = calculating_metrics(model_RFC_BO, train_x, val_x, train_y, val_y)\n",
    "cm_RFC_BO"
   ]
  },
  {
   "cell_type": "code",
   "execution_count": 99,
   "metadata": {},
   "outputs": [
    {
     "data": {
      "text/html": [
       "<div>\n",
       "<style scoped>\n",
       "    .dataframe tbody tr th:only-of-type {\n",
       "        vertical-align: middle;\n",
       "    }\n",
       "\n",
       "    .dataframe tbody tr th {\n",
       "        vertical-align: top;\n",
       "    }\n",
       "\n",
       "    .dataframe thead tr th {\n",
       "        text-align: left;\n",
       "    }\n",
       "</style>\n",
       "<table border=\"1\" class=\"dataframe\">\n",
       "  <thead>\n",
       "    <tr>\n",
       "      <th></th>\n",
       "      <th colspan=\"2\" halign=\"left\">GidSearchCV</th>\n",
       "      <th colspan=\"2\" halign=\"left\">RandomSearchCV</th>\n",
       "      <th colspan=\"2\" halign=\"left\">Bayesian Optimization</th>\n",
       "    </tr>\n",
       "    <tr>\n",
       "      <th></th>\n",
       "      <th>AUC</th>\n",
       "      <th>Gini</th>\n",
       "      <th>AUC</th>\n",
       "      <th>Gini</th>\n",
       "      <th>AUC</th>\n",
       "      <th>Gini</th>\n",
       "    </tr>\n",
       "  </thead>\n",
       "  <tbody>\n",
       "    <tr>\n",
       "      <th>TRAIN</th>\n",
       "      <td>0.9445</td>\n",
       "      <td>0.8889</td>\n",
       "      <td>0.9508</td>\n",
       "      <td>0.9017</td>\n",
       "      <td>0.9792</td>\n",
       "      <td>0.9583</td>\n",
       "    </tr>\n",
       "    <tr>\n",
       "      <th>VAL</th>\n",
       "      <td>0.8845</td>\n",
       "      <td>0.7691</td>\n",
       "      <td>0.8846</td>\n",
       "      <td>0.7693</td>\n",
       "      <td>0.8923</td>\n",
       "      <td>0.7847</td>\n",
       "    </tr>\n",
       "  </tbody>\n",
       "</table>\n",
       "</div>"
      ],
      "text/plain": [
       "      GidSearchCV         RandomSearchCV         Bayesian Optimization        \n",
       "              AUC    Gini            AUC    Gini                   AUC    Gini\n",
       "TRAIN      0.9445  0.8889         0.9508  0.9017                0.9792  0.9583\n",
       "VAL        0.8845  0.7691         0.8846  0.7693                0.8923  0.7847"
      ]
     },
     "execution_count": 99,
     "metadata": {},
     "output_type": "execute_result"
    }
   ],
   "source": [
    "results_RFC = pd.concat([cm_RFC_GS, cm_RFC_RS, cm_RFC_BO],\n",
    "                        axis=1,\n",
    "                        keys={'GidSearchCV': cm_RFC_GS,\n",
    "                              'RandomSearchCV': cm_RFC_RS,\n",
    "                              'Bayesian Optimization': cm_RFC_BO}\n",
    "                       )\n",
    "results_RFC"
   ]
  },
  {
   "cell_type": "markdown",
   "metadata": {},
   "source": [
    "## Submission"
   ]
  },
  {
   "cell_type": "code",
   "execution_count": 100,
   "metadata": {},
   "outputs": [],
   "source": [
    "subm = pd.read_csv('data/gender_submission.csv')"
   ]
  },
  {
   "cell_type": "code",
   "execution_count": 101,
   "metadata": {},
   "outputs": [],
   "source": [
    "pred_values = model_RFC_BO.predict(test_x)"
   ]
  },
  {
   "cell_type": "code",
   "execution_count": 102,
   "metadata": {},
   "outputs": [],
   "source": [
    "subm_values = pd.Series(pred_values, name='Survived', index=range(len(pred_values)))"
   ]
  },
  {
   "cell_type": "code",
   "execution_count": 103,
   "metadata": {},
   "outputs": [],
   "source": [
    "subm.Survived = subm_values"
   ]
  },
  {
   "cell_type": "code",
   "execution_count": 104,
   "metadata": {},
   "outputs": [],
   "source": [
    "subm.to_csv('data/gender_submission.csv', index=False)"
   ]
  }
 ],
 "metadata": {
  "kernelspec": {
   "display_name": "Python 3",
   "language": "python",
   "name": "python3"
  },
  "language_info": {
   "codemirror_mode": {
    "name": "ipython",
    "version": 3
   },
   "file_extension": ".py",
   "mimetype": "text/x-python",
   "name": "python",
   "nbconvert_exporter": "python",
   "pygments_lexer": "ipython3",
   "version": "3.7.5"
  }
 },
 "nbformat": 4,
 "nbformat_minor": 2
}
